{
 "cells": [
  {
   "cell_type": "markdown",
   "metadata": {},
   "source": [
    "<h2>Observations</h2>\n",
    "<ol>\n",
    "<li>If first word is pronoun and mispelled, it remains undetected or other word(pronoun) is predicted</li>\n",
    "<li>Multiple missing letters will eventually remain undetected or predict some other word!</li>\n",
    "<li>If the order of the letters in the word is changed, then the word might be predicted correctly</li>\n",
    "<li>Sometimes incorrectly spelled Nouns will not be detected at all, and remain the same in the corrected text</li>\n",
    "<li>3rd point may predict other words also</li>\n",
    "<li>In timings ':' wont be displayed in the corrected text</li>\n",
    "<li>Some of the words in the input string are getting predicted to some other word in the correction dictionary automatically</li>\n",
    "</ol>"
   ]
  },
  {
   "cell_type": "markdown",
   "metadata": {},
   "source": [
    "# Programmtic approch "
   ]
  },
  {
   "cell_type": "code",
   "execution_count": 22,
   "metadata": {},
   "outputs": [],
   "source": [
    "import pandas as pd\n",
    "from IPython.display import clear_output\n",
    "from spello.model import SpellCorrectionModel\n",
    "sp = SpellCorrectionModel(language='en')"
   ]
  },
  {
   "cell_type": "code",
   "execution_count": 23,
   "metadata": {},
   "outputs": [
    {
     "data": {
      "text/html": [
       "<div>\n",
       "<style scoped>\n",
       "    .dataframe tbody tr th:only-of-type {\n",
       "        vertical-align: middle;\n",
       "    }\n",
       "\n",
       "    .dataframe tbody tr th {\n",
       "        vertical-align: top;\n",
       "    }\n",
       "\n",
       "    .dataframe thead th {\n",
       "        text-align: right;\n",
       "    }\n",
       "</style>\n",
       "<table border=\"1\" class=\"dataframe\">\n",
       "  <thead>\n",
       "    <tr style=\"text-align: right;\">\n",
       "      <th></th>\n",
       "      <th>Wrong Sentences</th>\n",
       "      <th>Right Sentences</th>\n",
       "    </tr>\n",
       "  </thead>\n",
       "  <tbody>\n",
       "    <tr>\n",
       "      <th>0</th>\n",
       "      <td>Seke succsse, but alwysa be prepraed fr randum...</td>\n",
       "      <td>Seek success, but always be prepared for rando...</td>\n",
       "    </tr>\n",
       "    <tr>\n",
       "      <th>1</th>\n",
       "      <td>The turth is taht yuo pay for your lifesytel i...</td>\n",
       "      <td>The truth is that you pay for your lifestyle i...</td>\n",
       "    </tr>\n",
       "    <tr>\n",
       "      <th>2</th>\n",
       "      <td>It was a slipery slpeo and he was wiling to sl...</td>\n",
       "      <td>It was a slippery slope and he was willing to ...</td>\n",
       "    </tr>\n",
       "    <tr>\n",
       "      <th>3</th>\n",
       "      <td>They improved drmatcally once the lead singer ...</td>\n",
       "      <td>They improved dramatically once the lead singe...</td>\n",
       "    </tr>\n",
       "    <tr>\n",
       "      <th>4</th>\n",
       "      <td>A purepl pig and a green donkey flew a kite in...</td>\n",
       "      <td>A purple pig and a green donkey flew a kite in...</td>\n",
       "    </tr>\n",
       "    <tr>\n",
       "      <th>5</th>\n",
       "      <td>The pet shop stocks everyting you ened to keep...</td>\n",
       "      <td>The pet shop stocks everything you need to kee...</td>\n",
       "    </tr>\n",
       "    <tr>\n",
       "      <th>6</th>\n",
       "      <td>He strives to keep the best lanw in the neighb...</td>\n",
       "      <td>He strieves to keep the best lawn in the neigh...</td>\n",
       "    </tr>\n",
       "    <tr>\n",
       "      <th>7</th>\n",
       "      <td>We hav a lo of rain in Jun.</td>\n",
       "      <td>We have a lot of rain in June.</td>\n",
       "    </tr>\n",
       "    <tr>\n",
       "      <th>8</th>\n",
       "      <td>The quick bronw fox jumsp over the lzay dog.</td>\n",
       "      <td>The quick brown fox jumps over the lazy dog.</td>\n",
       "    </tr>\n",
       "    <tr>\n",
       "      <th>9</th>\n",
       "      <td>Chocolate covred crickts were his favourite sn...</td>\n",
       "      <td>Chocolate covered crickets were his favorite s...</td>\n",
       "    </tr>\n",
       "    <tr>\n",
       "      <th>10</th>\n",
       "      <td>The tortose jumed into the lake with drems of ...</td>\n",
       "      <td>The tortoise jumped into the lake with dreams ...</td>\n",
       "    </tr>\n",
       "    <tr>\n",
       "      <th>11</th>\n",
       "      <td>All you need to du is pck up the pen and begin.</td>\n",
       "      <td>All you need to do is pick up the pen and begin</td>\n",
       "    </tr>\n",
       "    <tr>\n",
       "      <th>12</th>\n",
       "      <td>There was no tellin what thoughs would come fr...</td>\n",
       "      <td>There was no telling what thoughts would come ...</td>\n",
       "    </tr>\n",
       "    <tr>\n",
       "      <th>13</th>\n",
       "      <td>Nevr undestimate the willingnes of the greedy ...</td>\n",
       "      <td>Never underestimate the willingness of the gre...</td>\n",
       "    </tr>\n",
       "    <tr>\n",
       "      <th>14</th>\n",
       "      <td>He had a hiddn stash underneath the floorbords...</td>\n",
       "      <td>He had a hidden stash underneath the floorboar...</td>\n",
       "    </tr>\n",
       "    <tr>\n",
       "      <th>15</th>\n",
       "      <td>I cheked to make sure that he was stil alive.</td>\n",
       "      <td>I checked to make sure that he was still alive.</td>\n",
       "    </tr>\n",
       "    <tr>\n",
       "      <th>16</th>\n",
       "      <td>People genrally aprpove of dogs eating cat foo...</td>\n",
       "      <td>People generally approve of dogs eating cat fo...</td>\n",
       "    </tr>\n",
       "    <tr>\n",
       "      <th>17</th>\n",
       "      <td>Cobines are no longr just for famrs.</td>\n",
       "      <td>Combines are no longer just for farms.</td>\n",
       "    </tr>\n",
       "    <tr>\n",
       "      <th>18</th>\n",
       "      <td>We shold play with legos at camp.</td>\n",
       "      <td>We should play with the legos at camp.</td>\n",
       "    </tr>\n",
       "    <tr>\n",
       "      <th>19</th>\n",
       "      <td>There were three sphered rocks congregting in ...</td>\n",
       "      <td>There were three sphered rocks congregating in...</td>\n",
       "    </tr>\n",
       "    <tr>\n",
       "      <th>20</th>\n",
       "      <td>It was the best sandcstle he had ever sene.</td>\n",
       "      <td>It was the best sandcastle he had ever sense.</td>\n",
       "    </tr>\n",
       "    <tr>\n",
       "      <th>21</th>\n",
       "      <td>I often see the tiem 11:11 or 12:34 on clocks.</td>\n",
       "      <td>I often see the time 11:11 or 12:34 on clocks.</td>\n",
       "    </tr>\n",
       "    <tr>\n",
       "      <th>22</th>\n",
       "      <td>Their argumet could be herda across the parkin...</td>\n",
       "      <td>Their argument could be heard across the parki...</td>\n",
       "    </tr>\n",
       "    <tr>\n",
       "      <th>23</th>\n",
       "      <td>She was the typ of girl who wantd to liv in a ...</td>\n",
       "      <td>She was the type of girl who wanted to live in...</td>\n",
       "    </tr>\n",
       "    <tr>\n",
       "      <th>24</th>\n",
       "      <td>Nancy was proud that she ran a tight shipweck.</td>\n",
       "      <td>Nancy was proud that she ran a tight shipwreck.</td>\n",
       "    </tr>\n",
       "    <tr>\n",
       "      <th>25</th>\n",
       "      <td>With a sinle flip of the coin, his life changd...</td>\n",
       "      <td>With a single flip of the coin, his life chang...</td>\n",
       "    </tr>\n",
       "    <tr>\n",
       "      <th>26</th>\n",
       "      <td>A song can make or ruin a person’s day if they...</td>\n",
       "      <td>A song can make or ruin a person's day if they...</td>\n",
       "    </tr>\n",
       "    <tr>\n",
       "      <th>27</th>\n",
       "      <td>He decided water-skiing on a frzen lake wasn’t...</td>\n",
       "      <td>He decided water-skiing on a frozen lake wasn'...</td>\n",
       "    </tr>\n",
       "    <tr>\n",
       "      <th>28</th>\n",
       "      <td>There is a resaon that roses have thonrs.</td>\n",
       "      <td>There is a reason that roses have thorns.</td>\n",
       "    </tr>\n",
       "    <tr>\n",
       "      <th>29</th>\n",
       "      <td>Noboyd has encountered an explosve daisy and l...</td>\n",
       "      <td>Nobody has encountered an explosive daisy and ...</td>\n",
       "    </tr>\n",
       "    <tr>\n",
       "      <th>30</th>\n",
       "      <td>Charlis ate the frech fries knowing they would...</td>\n",
       "      <td>Charlie ate the french fries knowing they woul...</td>\n",
       "    </tr>\n",
       "    <tr>\n",
       "      <th>31</th>\n",
       "      <td>Tom got a sll picee of pie.</td>\n",
       "      <td>Tom got a small piece of pie.</td>\n",
       "    </tr>\n",
       "    <tr>\n",
       "      <th>32</th>\n",
       "      <td>I dont respect anybody who cant tell the diffe...</td>\n",
       "      <td>I dont respect anybody who cant tell the diffe...</td>\n",
       "    </tr>\n",
       "    <tr>\n",
       "      <th>33</th>\n",
       "      <td>I caught my squirerl rustilng through my gym bag.</td>\n",
       "      <td>I caught my squirrel rustling through my gym bag.</td>\n",
       "    </tr>\n",
       "    <tr>\n",
       "      <th>34</th>\n",
       "      <td>Her life in the cofines of the house becme her...</td>\n",
       "      <td>Her life in the confines of the house became h...</td>\n",
       "    </tr>\n",
       "    <tr>\n",
       "      <th>35</th>\n",
       "      <td>There was coal in his sohcking and he was thri...</td>\n",
       "      <td>There was coal in his shocking and he was thri...</td>\n",
       "    </tr>\n",
       "    <tr>\n",
       "      <th>36</th>\n",
       "      <td>Iron pyrite is the most foolish of all mierals.</td>\n",
       "      <td>Iron pyrite is the most foolish of all minerals.</td>\n",
       "    </tr>\n",
       "    <tr>\n",
       "      <th>37</th>\n",
       "      <td>I would be delighted if the sea were flul of c...</td>\n",
       "      <td>I would be delighted if the sea were full of c...</td>\n",
       "    </tr>\n",
       "    <tr>\n",
       "      <th>38</th>\n",
       "      <td>He puored rocks in the dungen of his mind.</td>\n",
       "      <td>He poured rocks in the dungeon of his mind.</td>\n",
       "    </tr>\n",
       "    <tr>\n",
       "      <th>39</th>\n",
       "      <td>The miunte she landed she unerstood the reason...</td>\n",
       "      <td>The minute she landed she understood the reaso...</td>\n",
       "    </tr>\n",
       "    <tr>\n",
       "      <th>40</th>\n",
       "      <td>The mysteroius diary recods the voice.</td>\n",
       "      <td>The mysterious diary records the voice.</td>\n",
       "    </tr>\n",
       "    <tr>\n",
       "      <th>41</th>\n",
       "      <td>Malls are great plaecs to shop; I can find eve...</td>\n",
       "      <td>Malls are great places to shop; I can find eve...</td>\n",
       "    </tr>\n",
       "    <tr>\n",
       "      <th>42</th>\n",
       "      <td>Her daily goal was to improe on yesterdy.</td>\n",
       "      <td>Her daily goal was to improve on yesterday.</td>\n",
       "    </tr>\n",
       "    <tr>\n",
       "      <th>43</th>\n",
       "      <td>Exciement replced fear untill the final momernt.</td>\n",
       "      <td>Excitement replaced fear until the final moment.</td>\n",
       "    </tr>\n",
       "    <tr>\n",
       "      <th>44</th>\n",
       "      <td>The doll spun arund in circles in hope of comi...</td>\n",
       "      <td>The doll spun around in circles in hope of com...</td>\n",
       "    </tr>\n",
       "    <tr>\n",
       "      <th>45</th>\n",
       "      <td>When transplnting seedlings, candied teapots w...</td>\n",
       "      <td>When transplanting seedlings, candid teapot wi...</td>\n",
       "    </tr>\n",
       "    <tr>\n",
       "      <th>46</th>\n",
       "      <td>Her scream silnced the rowdy teenagrs.</td>\n",
       "      <td>Her scream silenced the rowdy teenagers.</td>\n",
       "    </tr>\n",
       "    <tr>\n",
       "      <th>47</th>\n",
       "      <td>It dawned on her that others could make her ha...</td>\n",
       "      <td>It dawned on her that others could make her ha...</td>\n",
       "    </tr>\n",
       "    <tr>\n",
       "      <th>48</th>\n",
       "      <td>The door slammed on the watmelon.</td>\n",
       "      <td>The door slammed on the watermelon.</td>\n",
       "    </tr>\n",
       "    <tr>\n",
       "      <th>49</th>\n",
       "      <td>In hopes of finding out the truth, he entered ...</td>\n",
       "      <td>In hopes of finding out the truth, he entered ...</td>\n",
       "    </tr>\n",
       "    <tr>\n",
       "      <th>50</th>\n",
       "      <td>He always wore his sunlasses at niht.</td>\n",
       "      <td>He always wore his sunglasses at night.</td>\n",
       "    </tr>\n",
       "  </tbody>\n",
       "</table>\n",
       "</div>"
      ],
      "text/plain": [
       "                                      Wrong Sentences  \\\n",
       "0   Seke succsse, but alwysa be prepraed fr randum...   \n",
       "1   The turth is taht yuo pay for your lifesytel i...   \n",
       "2   It was a slipery slpeo and he was wiling to sl...   \n",
       "3   They improved drmatcally once the lead singer ...   \n",
       "4   A purepl pig and a green donkey flew a kite in...   \n",
       "5   The pet shop stocks everyting you ened to keep...   \n",
       "6   He strives to keep the best lanw in the neighb...   \n",
       "7                         We hav a lo of rain in Jun.   \n",
       "8        The quick bronw fox jumsp over the lzay dog.   \n",
       "9   Chocolate covred crickts were his favourite sn...   \n",
       "10  The tortose jumed into the lake with drems of ...   \n",
       "11    All you need to du is pck up the pen and begin.   \n",
       "12  There was no tellin what thoughs would come fr...   \n",
       "13  Nevr undestimate the willingnes of the greedy ...   \n",
       "14  He had a hiddn stash underneath the floorbords...   \n",
       "15      I cheked to make sure that he was stil alive.   \n",
       "16  People genrally aprpove of dogs eating cat foo...   \n",
       "17               Cobines are no longr just for famrs.   \n",
       "18                  We shold play with legos at camp.   \n",
       "19  There were three sphered rocks congregting in ...   \n",
       "20        It was the best sandcstle he had ever sene.   \n",
       "21     I often see the tiem 11:11 or 12:34 on clocks.   \n",
       "22  Their argumet could be herda across the parkin...   \n",
       "23  She was the typ of girl who wantd to liv in a ...   \n",
       "24     Nancy was proud that she ran a tight shipweck.   \n",
       "25  With a sinle flip of the coin, his life changd...   \n",
       "26  A song can make or ruin a person’s day if they...   \n",
       "27  He decided water-skiing on a frzen lake wasn’t...   \n",
       "28          There is a resaon that roses have thonrs.   \n",
       "29  Noboyd has encountered an explosve daisy and l...   \n",
       "30  Charlis ate the frech fries knowing they would...   \n",
       "31                        Tom got a sll picee of pie.   \n",
       "32  I dont respect anybody who cant tell the diffe...   \n",
       "33  I caught my squirerl rustilng through my gym bag.   \n",
       "34  Her life in the cofines of the house becme her...   \n",
       "35  There was coal in his sohcking and he was thri...   \n",
       "36    Iron pyrite is the most foolish of all mierals.   \n",
       "37  I would be delighted if the sea were flul of c...   \n",
       "38         He puored rocks in the dungen of his mind.   \n",
       "39  The miunte she landed she unerstood the reason...   \n",
       "40             The mysteroius diary recods the voice.   \n",
       "41  Malls are great plaecs to shop; I can find eve...   \n",
       "42          Her daily goal was to improe on yesterdy.   \n",
       "43   Exciement replced fear untill the final momernt.   \n",
       "44  The doll spun arund in circles in hope of comi...   \n",
       "45  When transplnting seedlings, candied teapots w...   \n",
       "46             Her scream silnced the rowdy teenagrs.   \n",
       "47  It dawned on her that others could make her ha...   \n",
       "48                  The door slammed on the watmelon.   \n",
       "49  In hopes of finding out the truth, he entered ...   \n",
       "50              He always wore his sunlasses at niht.   \n",
       "\n",
       "                                      Right Sentences  \n",
       "0   Seek success, but always be prepared for rando...  \n",
       "1   The truth is that you pay for your lifestyle i...  \n",
       "2   It was a slippery slope and he was willing to ...  \n",
       "3   They improved dramatically once the lead singe...  \n",
       "4   A purple pig and a green donkey flew a kite in...  \n",
       "5   The pet shop stocks everything you need to kee...  \n",
       "6   He strieves to keep the best lawn in the neigh...  \n",
       "7                      We have a lot of rain in June.  \n",
       "8        The quick brown fox jumps over the lazy dog.  \n",
       "9   Chocolate covered crickets were his favorite s...  \n",
       "10  The tortoise jumped into the lake with dreams ...  \n",
       "11    All you need to do is pick up the pen and begin  \n",
       "12  There was no telling what thoughts would come ...  \n",
       "13  Never underestimate the willingness of the gre...  \n",
       "14  He had a hidden stash underneath the floorboar...  \n",
       "15    I checked to make sure that he was still alive.  \n",
       "16  People generally approve of dogs eating cat fo...  \n",
       "17             Combines are no longer just for farms.  \n",
       "18             We should play with the legos at camp.  \n",
       "19  There were three sphered rocks congregating in...  \n",
       "20      It was the best sandcastle he had ever sense.  \n",
       "21     I often see the time 11:11 or 12:34 on clocks.  \n",
       "22  Their argument could be heard across the parki...  \n",
       "23  She was the type of girl who wanted to live in...  \n",
       "24    Nancy was proud that she ran a tight shipwreck.  \n",
       "25  With a single flip of the coin, his life chang...  \n",
       "26  A song can make or ruin a person's day if they...  \n",
       "27  He decided water-skiing on a frozen lake wasn'...  \n",
       "28          There is a reason that roses have thorns.  \n",
       "29  Nobody has encountered an explosive daisy and ...  \n",
       "30  Charlie ate the french fries knowing they woul...  \n",
       "31                      Tom got a small piece of pie.  \n",
       "32  I dont respect anybody who cant tell the diffe...  \n",
       "33  I caught my squirrel rustling through my gym bag.  \n",
       "34  Her life in the confines of the house became h...  \n",
       "35  There was coal in his shocking and he was thri...  \n",
       "36   Iron pyrite is the most foolish of all minerals.  \n",
       "37  I would be delighted if the sea were full of c...  \n",
       "38        He poured rocks in the dungeon of his mind.  \n",
       "39  The minute she landed she understood the reaso...  \n",
       "40            The mysterious diary records the voice.  \n",
       "41  Malls are great places to shop; I can find eve...  \n",
       "42        Her daily goal was to improve on yesterday.  \n",
       "43   Excitement replaced fear until the final moment.  \n",
       "44  The doll spun around in circles in hope of com...  \n",
       "45  When transplanting seedlings, candid teapot wi...  \n",
       "46           Her scream silenced the rowdy teenagers.  \n",
       "47  It dawned on her that others could make her ha...  \n",
       "48                The door slammed on the watermelon.  \n",
       "49  In hopes of finding out the truth, he entered ...  \n",
       "50            He always wore his sunglasses at night.  "
      ]
     },
     "execution_count": 23,
     "metadata": {},
     "output_type": "execute_result"
    }
   ],
   "source": [
    "df=pd.read_csv(r'D:\\jupyternotebooks\\prototype2\\sentences_custom.csv')\n",
    "df"
   ]
  },
  {
   "cell_type": "code",
   "execution_count": 28,
   "metadata": {},
   "outputs": [
    {
     "name": "stdout",
     "output_type": "stream",
     "text": [
      "The total sentences that will be passed to the model is 51\n"
     ]
    }
   ],
   "source": [
    "print(\"The total sentences that will be passed to the model is {}\".format(df.shape[0]))"
   ]
  },
  {
   "cell_type": "code",
   "execution_count": 25,
   "metadata": {},
   "outputs": [
    {
     "data": {
      "text/plain": [
       "<spello.model.SpellCorrectionModel at 0x1592a9bfdc8>"
      ]
     },
     "execution_count": 25,
     "metadata": {},
     "output_type": "execute_result"
    }
   ],
   "source": [
    "sp.load(r'D:\\jupyternotebooks\\prototype2\\model.pkl')"
   ]
  },
  {
   "cell_type": "code",
   "execution_count": 26,
   "metadata": {},
   "outputs": [
    {
     "name": "stdout",
     "output_type": "stream",
     "text": [
      "The total number of words passed to the model is 545\n",
      "The total correct words predicted by the model is 439\n",
      "Our final accuracy is 80.55045871559633%\n"
     ]
    }
   ],
   "source": [
    "count=0\n",
    "words_count=0\n",
    "for index, row in df.iterrows():\n",
    "    wrong_sen=row['Wrong Sentences']\n",
    "    right_sen=row['Right Sentences']\n",
    "    right_words=str(right_sen).split()\n",
    "    right_words_len=len(right_words)\n",
    "    words_count+=right_words_len\n",
    "    pred_dict=sp.spell_correct(wrong_sen)\n",
    "    corted_words=str(pred_dict['spell_corrected_text']).split()\n",
    "    for right,correct in zip(right_words,corted_words):\n",
    "        if right == correct:\n",
    "            count+=1\n",
    "            \n",
    "clear_output(wait=True)\n",
    "accuracy_precentage=(count/words_count)*100\n",
    "print(\"The total number of words passed to the model is {}\".format(words_count))\n",
    "print(\"The total correct words predicted by the model is {}\".format(count))\n",
    "print(\"Our final accuracy is {}%\".format(accuracy_precentage))\n"
   ]
  },
  {
   "cell_type": "markdown",
   "metadata": {},
   "source": [
    "# Checking out each of the input instance manually"
   ]
  },
  {
   "cell_type": "code",
   "execution_count": 15,
   "metadata": {},
   "outputs": [
    {
     "name": "stdout",
     "output_type": "stream",
     "text": [
      "10\n"
     ]
    },
    {
     "data": {
      "text/plain": [
       "{'original_text': 'Seke succsse, but alwysa be prepraed fr randum ctas.',\n",
       " 'spell_corrected_text': 'Seke success  but also be prepared fr random cats',\n",
       " 'correction_dict': {'succsse': 'success',\n",
       "  'alwysa': 'also',\n",
       "  'prepraed': 'prepared',\n",
       "  'randum': 'random',\n",
       "  'ctas': 'cats'}}"
      ]
     },
     "execution_count": 15,
     "metadata": {},
     "output_type": "execute_result"
    }
   ],
   "source": [
    "#1\n",
    "sp.spell_correct('Seke succsse, but alwysa be prepraed fr randum ctas.')"
   ]
  },
  {
   "cell_type": "code",
   "execution_count": 17,
   "metadata": {},
   "outputs": [
    {
     "name": "stdout",
     "output_type": "stream",
     "text": [
      "12\n"
     ]
    },
    {
     "data": {
      "text/plain": [
       "{'original_text': 'The turth is taht yuo pay for your lifesytel in hrso.',\n",
       " 'spell_corrected_text': 'The truth is that you pay for your lifestyle in hours',\n",
       " 'correction_dict': {'turth': 'truth',\n",
       "  'taht': 'that',\n",
       "  'yuo': 'you',\n",
       "  'lifesytel': 'lifestyle',\n",
       "  'hrso': 'hours'}}"
      ]
     },
     "execution_count": 17,
     "metadata": {},
     "output_type": "execute_result"
    }
   ],
   "source": [
    "#2\n",
    "sp.spell_correct('The turth is taht yuo pay for your lifesytel in hrso.')"
   ]
  },
  {
   "cell_type": "code",
   "execution_count": 19,
   "metadata": {},
   "outputs": [
    {
     "name": "stdout",
     "output_type": "stream",
     "text": [
      "20\n"
     ]
    },
    {
     "data": {
      "text/plain": [
       "{'original_text': 'It was a slipery slpeo and he was wiling to slide all the way to the depeset depth.',\n",
       " 'spell_corrected_text': 'It was a silver super and he was willing to slide all the way to the deposit depth',\n",
       " 'correction_dict': {'slipery': 'silver',\n",
       "  'slpeo': 'super',\n",
       "  'wiling': 'willing',\n",
       "  'depeset': 'deposit'}}"
      ]
     },
     "execution_count": 19,
     "metadata": {},
     "output_type": "execute_result"
    }
   ],
   "source": [
    "#3\n",
    "sp.spell_correct('It was a slipery slpeo and he was wiling to slide all the way to the depeset depth.')"
   ]
  },
  {
   "cell_type": "code",
   "execution_count": 23,
   "metadata": {},
   "outputs": [
    {
     "name": "stdout",
     "output_type": "stream",
     "text": [
      "10\n"
     ]
    },
    {
     "data": {
      "text/plain": [
       "{'original_text': 'They improved drmatcally once the lead singer lfet.',\n",
       " 'spell_corrected_text': 'They improved dramatically once the lead singer left',\n",
       " 'correction_dict': {'drmatcally': 'dramatically', 'lfet': 'left'}}"
      ]
     },
     "execution_count": 23,
     "metadata": {},
     "output_type": "execute_result"
    }
   ],
   "source": [
    "#4\n",
    "sp.spell_correct('They improved drmatcally once the lead singer lfet.')"
   ]
  },
  {
   "cell_type": "code",
   "execution_count": 24,
   "metadata": {},
   "outputs": [
    {
     "name": "stdout",
     "output_type": "stream",
     "text": [
      "22\n"
     ]
    },
    {
     "data": {
      "text/plain": [
       "{'original_text': 'A purepl pig and a green donkey flew a kite in the midle of the night and ended up sunburtn.',\n",
       " 'spell_corrected_text': 'A purple pig and a green monkey flew a kite in the middle of the night and ended up sunburn',\n",
       " 'correction_dict': {'purepl': 'purple',\n",
       "  'donkey': 'monkey',\n",
       "  'midle': 'middle',\n",
       "  'sunburtn': 'sunburn'}}"
      ]
     },
     "execution_count": 24,
     "metadata": {},
     "output_type": "execute_result"
    }
   ],
   "source": [
    "sp.spell_correct('A purepl pig and a green donkey flew a kite in the midle of the night and ended up sunburtn.')"
   ]
  },
  {
   "cell_type": "code",
   "execution_count": 29,
   "metadata": {},
   "outputs": [
    {
     "name": "stdout",
     "output_type": "stream",
     "text": [
      "14\n"
     ]
    },
    {
     "data": {
      "text/plain": [
       "{'original_text': 'The pet shop stocks everyting you ened to keep your anaocnda hapyp.',\n",
       " 'spell_corrected_text': 'The pet shop stocks everything you need to keep your anand happy',\n",
       " 'correction_dict': {'everyting': 'everything',\n",
       "  'ened': 'need',\n",
       "  'anaocnda': 'anand',\n",
       "  'hapyp': 'happy'}}"
      ]
     },
     "execution_count": 29,
     "metadata": {},
     "output_type": "execute_result"
    }
   ],
   "source": [
    "#5\n",
    "sp.spell_correct('The pet shop stocks everyting you ened to keep your anaocnda hapyp.')"
   ]
  },
  {
   "cell_type": "code",
   "execution_count": 35,
   "metadata": {},
   "outputs": [
    {
     "name": "stdout",
     "output_type": "stream",
     "text": [
      "12\n"
     ]
    },
    {
     "data": {
      "text/plain": [
       "{'original_text': 'He strives to keep the best lanw in the neighborhud.',\n",
       " 'spell_corrected_text': 'He strives to keep the best line in the neighborhood',\n",
       " 'correction_dict': {'lanw': 'line', 'neighborhud': 'neighborhood'}}"
      ]
     },
     "execution_count": 35,
     "metadata": {},
     "output_type": "execute_result"
    }
   ],
   "source": [
    "#6\n",
    "sp.spell_correct('He strives to keep the best lanw in the neighborhud.')"
   ]
  },
  {
   "cell_type": "code",
   "execution_count": 38,
   "metadata": {},
   "outputs": [
    {
     "name": "stdout",
     "output_type": "stream",
     "text": [
      "10\n"
     ]
    },
    {
     "data": {
      "text/plain": [
       "{'original_text': 'We hav a lo of rain in Jun.',\n",
       " 'spell_corrected_text': 'We have a lo of rain in Jun',\n",
       " 'correction_dict': {'hav': 'have'}}"
      ]
     },
     "execution_count": 38,
     "metadata": {},
     "output_type": "execute_result"
    }
   ],
   "source": [
    "#7\n",
    "sp.spell_correct('We hav a lo of rain in Jun.')"
   ]
  },
  {
   "cell_type": "code",
   "execution_count": 45,
   "metadata": {},
   "outputs": [
    {
     "name": "stdout",
     "output_type": "stream",
     "text": [
      "10\n"
     ]
    },
    {
     "data": {
      "text/plain": [
       "{'original_text': 'The quick bronw fox jumsp over the lzay dog.',\n",
       " 'spell_corrected_text': 'The quick brown fox jump over the los dog',\n",
       " 'correction_dict': {'bronw': 'brown', 'jumsp': 'jump', 'lzay': 'los'}}"
      ]
     },
     "execution_count": 45,
     "metadata": {},
     "output_type": "execute_result"
    }
   ],
   "source": [
    "#8\n",
    "sp.spell_correct('The quick bronw fox jumsp over the lzay dog.')"
   ]
  },
  {
   "cell_type": "code",
   "execution_count": 46,
   "metadata": {},
   "outputs": [
    {
     "name": "stdout",
     "output_type": "stream",
     "text": [
      "8\n"
     ]
    },
    {
     "data": {
      "text/plain": [
       "{'original_text': 'Chocolate covred crickts were his favourite snack.',\n",
       " 'spell_corrected_text': 'Chocolate covered crickets were his favorite snack',\n",
       " 'correction_dict': {'covred': 'covered',\n",
       "  'crickts': 'crickets',\n",
       "  'favourite': 'favorite'}}"
      ]
     },
     "execution_count": 46,
     "metadata": {},
     "output_type": "execute_result"
    }
   ],
   "source": [
    "#9\n",
    "sp.spell_correct('Chocolate covred crickts were his favourite snack.')"
   ]
  },
  {
   "cell_type": "code",
   "execution_count": 52,
   "metadata": {},
   "outputs": [
    {
     "name": "stdout",
     "output_type": "stream",
     "text": [
      "14\n"
     ]
    },
    {
     "data": {
      "text/plain": [
       "{'original_text': 'The tortose jumed into the lake with drems of becoing a sea turtle.',\n",
       " 'spell_corrected_text': 'The tortoise jumped into the lake with dreams of becoming a sea turtle',\n",
       " 'correction_dict': {'tortose': 'tortoise',\n",
       "  'jumed': 'jumped',\n",
       "  'drems': 'dreams',\n",
       "  'becoing': 'becoming'}}"
      ]
     },
     "execution_count": 52,
     "metadata": {},
     "output_type": "execute_result"
    }
   ],
   "source": [
    "#10\n",
    "sp.spell_correct('The tortose jumed into the lake with drems of becoing a sea turtle.')"
   ]
  },
  {
   "cell_type": "code",
   "execution_count": 63,
   "metadata": {},
   "outputs": [
    {
     "name": "stdout",
     "output_type": "stream",
     "text": [
      "14\n"
     ]
    },
    {
     "data": {
      "text/plain": [
       "{'original_text': 'All you need to du is pck up the pen and begin.',\n",
       " 'spell_corrected_text': 'All you need to du is pick up the pen and begin',\n",
       " 'correction_dict': {'pck': 'pick'}}"
      ]
     },
     "execution_count": 63,
     "metadata": {},
     "output_type": "execute_result"
    }
   ],
   "source": [
    "#11\n",
    "sp.spell_correct('All you need to du is pck up the pen and begin.')"
   ]
  },
  {
   "cell_type": "code",
   "execution_count": 77,
   "metadata": {},
   "outputs": [
    {
     "name": "stdout",
     "output_type": "stream",
     "text": [
      "12\n"
     ]
    },
    {
     "data": {
      "text/plain": [
       "{'original_text': 'There was no tellin what thoughs would come from the machien.',\n",
       " 'spell_corrected_text': 'There was no telling what thought would come from the machine',\n",
       " 'correction_dict': {'tellin': 'telling',\n",
       "  'thoughs': 'thought',\n",
       "  'machien': 'machine'}}"
      ]
     },
     "execution_count": 77,
     "metadata": {},
     "output_type": "execute_result"
    }
   ],
   "source": [
    "#12\n",
    "sp.spell_correct('There was no tellin what thoughs would come from the machien.')"
   ]
  },
  {
   "cell_type": "code",
   "execution_count": 74,
   "metadata": {},
   "outputs": [
    {
     "name": "stdout",
     "output_type": "stream",
     "text": [
      "14\n"
     ]
    },
    {
     "data": {
      "text/plain": [
       "{'original_text': 'Nevr undestimate the willingnes of the greedy to throw you under the bus.',\n",
       " 'spell_corrected_text': 'never investigate the willingness of the greedy to throw you under the bus',\n",
       " 'correction_dict': {'Nevr': 'never',\n",
       "  'undestimate': 'investigate',\n",
       "  'willingnes': 'willingness'}}"
      ]
     },
     "execution_count": 74,
     "metadata": {},
     "output_type": "execute_result"
    }
   ],
   "source": [
    "#13\n",
    "sp.spell_correct('Nevr undestimate the willingnes of the greedy to throw you under the bus.')"
   ]
  },
  {
   "cell_type": "code",
   "execution_count": 81,
   "metadata": {},
   "outputs": [
    {
     "name": "stdout",
     "output_type": "stream",
     "text": [
      "16\n"
     ]
    },
    {
     "data": {
      "text/plain": [
       "{'original_text': 'He had a hiddn stash underneath the floorbords in the back room of the house.',\n",
       " 'spell_corrected_text': 'He had a hidden stash underneath the floorbords in the back room of the house',\n",
       " 'correction_dict': {'hiddn': 'hidden'}}"
      ]
     },
     "execution_count": 81,
     "metadata": {},
     "output_type": "execute_result"
    }
   ],
   "source": [
    "#14\n",
    "sp.spell_correct('He had a hiddn stash underneath the floorbords in the back room of the house.')"
   ]
  },
  {
   "cell_type": "code",
   "execution_count": 86,
   "metadata": {},
   "outputs": [
    {
     "name": "stdout",
     "output_type": "stream",
     "text": [
      "12\n"
     ]
    },
    {
     "data": {
      "text/plain": [
       "{'original_text': 'I cheked to make sure that he was stil alive.',\n",
       " 'spell_corrected_text': 'I checked to make sure that he was still alive',\n",
       " 'correction_dict': {'cheked': 'checked', 'stil': 'still'}}"
      ]
     },
     "execution_count": 86,
     "metadata": {},
     "output_type": "execute_result"
    }
   ],
   "source": [
    "#15\n",
    "sp.spell_correct('I cheked to make sure that he was stil alive.')"
   ]
  },
  {
   "cell_type": "code",
   "execution_count": 95,
   "metadata": {},
   "outputs": [
    {
     "name": "stdout",
     "output_type": "stream",
     "text": [
      "16\n"
     ]
    },
    {
     "data": {
      "text/plain": [
       "{'original_text': 'People genrally aprpove of dogs eating cat food but not cats eating dog food.',\n",
       " 'spell_corrected_text': 'People generally approve of dogs eating cat food but not cats eating dog food',\n",
       " 'correction_dict': {'genrally': 'generally', 'aprpove': 'approve'}}"
      ]
     },
     "execution_count": 95,
     "metadata": {},
     "output_type": "execute_result"
    }
   ],
   "source": [
    "#16\n",
    "sp.spell_correct('People genrally aprpove of dogs eating cat food but not cats eating dog food.')"
   ]
  },
  {
   "cell_type": "code",
   "execution_count": 101,
   "metadata": {},
   "outputs": [
    {
     "name": "stdout",
     "output_type": "stream",
     "text": [
      "8\n"
     ]
    },
    {
     "data": {
      "text/plain": [
       "{'original_text': 'Cobines are no longr just for famrs.',\n",
       " 'spell_corrected_text': 'combines are no longer just for farms',\n",
       " 'correction_dict': {'Cobines': 'combines',\n",
       "  'longr': 'longer',\n",
       "  'famrs': 'farms'}}"
      ]
     },
     "execution_count": 101,
     "metadata": {},
     "output_type": "execute_result"
    }
   ],
   "source": [
    "#17\n",
    "sp.spell_correct('Cobines are no longr just for famrs.')"
   ]
  },
  {
   "cell_type": "code",
   "execution_count": 103,
   "metadata": {},
   "outputs": [
    {
     "name": "stdout",
     "output_type": "stream",
     "text": [
      "8\n"
     ]
    },
    {
     "data": {
      "text/plain": [
       "{'original_text': 'We shold play with legos at camp.',\n",
       " 'spell_corrected_text': 'We should play with legs at camp',\n",
       " 'correction_dict': {'shold': 'should', 'legos': 'legs'}}"
      ]
     },
     "execution_count": 103,
     "metadata": {},
     "output_type": "execute_result"
    }
   ],
   "source": [
    "#18\n",
    "sp.spell_correct('We shold play with legos at camp.')"
   ]
  },
  {
   "cell_type": "code",
   "execution_count": 104,
   "metadata": {},
   "outputs": [
    {
     "name": "stdout",
     "output_type": "stream",
     "text": [
      "12\n"
     ]
    },
    {
     "data": {
      "text/plain": [
       "{'original_text': 'There were three sphered rocks congregting in a cubed room.',\n",
       " 'spell_corrected_text': 'There were three sphere rocks congregating in a cbd room',\n",
       " 'correction_dict': {'sphered': 'sphere',\n",
       "  'congregting': 'congregating',\n",
       "  'cubed': 'cbd'}}"
      ]
     },
     "execution_count": 104,
     "metadata": {},
     "output_type": "execute_result"
    }
   ],
   "source": [
    "#19\n",
    "sp.spell_correct('There were three sphered rocks congregting in a cubed room.')"
   ]
  },
  {
   "cell_type": "code",
   "execution_count": 108,
   "metadata": {
    "scrolled": true
   },
   "outputs": [
    {
     "name": "stdout",
     "output_type": "stream",
     "text": [
      "10\n"
     ]
    },
    {
     "data": {
      "text/plain": [
       "{'original_text': 'It was the best sandcstle he had ever sene.',\n",
       " 'spell_corrected_text': 'It was the best sandstone he had ever seen',\n",
       " 'correction_dict': {'sandcstle': 'sandstone', 'sene': 'seen'}}"
      ]
     },
     "execution_count": 108,
     "metadata": {},
     "output_type": "execute_result"
    }
   ],
   "source": [
    "#20\n",
    "sp.spell_correct('It was the best sandcstle he had ever sene.')"
   ]
  },
  {
   "cell_type": "code",
   "execution_count": 110,
   "metadata": {},
   "outputs": [
    {
     "name": "stdout",
     "output_type": "stream",
     "text": [
      "14\n"
     ]
    },
    {
     "data": {
      "text/plain": [
       "{'original_text': 'I often see the tiem 11:11 or 12:34 on clocks.',\n",
       " 'spell_corrected_text': 'I often see the time 11 11 or 12 34 on clocks',\n",
       " 'correction_dict': {'tiem': 'time'}}"
      ]
     },
     "execution_count": 110,
     "metadata": {},
     "output_type": "execute_result"
    }
   ],
   "source": [
    "#21\n",
    "sp.spell_correct('I often see the tiem 11:11 or 12:34 on clocks.')"
   ]
  },
  {
   "cell_type": "code",
   "execution_count": 112,
   "metadata": {},
   "outputs": [
    {
     "name": "stdout",
     "output_type": "stream",
     "text": [
      "10\n"
     ]
    },
    {
     "data": {
      "text/plain": [
       "{'original_text': 'Their argumet could be herda across the parking lot.',\n",
       " 'spell_corrected_text': 'Their argument could be heard across the parking lot',\n",
       " 'correction_dict': {'argumet': 'argument', 'herda': 'heard'}}"
      ]
     },
     "execution_count": 112,
     "metadata": {},
     "output_type": "execute_result"
    }
   ],
   "source": [
    "#22\n",
    "sp.spell_correct('Their argumet could be herda across the parking lot.')"
   ]
  },
  {
   "cell_type": "code",
   "execution_count": 122,
   "metadata": {},
   "outputs": [
    {
     "name": "stdout",
     "output_type": "stream",
     "text": [
      "16\n"
     ]
    },
    {
     "data": {
      "text/plain": [
       "{'original_text': 'She was the typ of girl who wantd to liv in a pink house.',\n",
       " 'spell_corrected_text': 'She was the top of girl who went to live in a pink house',\n",
       " 'correction_dict': {'typ': 'top', 'wantd': 'went', 'liv': 'live'}}"
      ]
     },
     "execution_count": 122,
     "metadata": {},
     "output_type": "execute_result"
    }
   ],
   "source": [
    "#23\n",
    "sp.spell_correct('She was the typ of girl who wantd to liv in a pink house.')"
   ]
  },
  {
   "cell_type": "code",
   "execution_count": 128,
   "metadata": {},
   "outputs": [
    {
     "name": "stdout",
     "output_type": "stream",
     "text": [
      "10\n"
     ]
    },
    {
     "data": {
      "text/plain": [
       "{'original_text': 'Nancy was proud that she ran a tight shipweck.',\n",
       " 'spell_corrected_text': 'Nancy was proud that she ran a tight shipwreck',\n",
       " 'correction_dict': {'shipweck': 'shipwreck'}}"
      ]
     },
     "execution_count": 128,
     "metadata": {},
     "output_type": "execute_result"
    }
   ],
   "source": [
    "#24\n",
    "sp.spell_correct('Nancy was proud that she ran a tight shipweck.')"
   ]
  },
  {
   "cell_type": "code",
   "execution_count": 131,
   "metadata": {},
   "outputs": [
    {
     "name": "stdout",
     "output_type": "stream",
     "text": [
      "12\n"
     ]
    },
    {
     "data": {
      "text/plain": [
       "{'original_text': 'With a sinle flip of the coin, his life changd foreer.',\n",
       " 'spell_corrected_text': 'With a single flip of the coin  his life changed forever',\n",
       " 'correction_dict': {'sinle': 'single',\n",
       "  'changd': 'changed',\n",
       "  'foreer': 'forever'}}"
      ]
     },
     "execution_count": 131,
     "metadata": {},
     "output_type": "execute_result"
    }
   ],
   "source": [
    "#25\n",
    "sp.spell_correct('With a sinle flip of the coin, his life changd foreer.')"
   ]
  },
  {
   "cell_type": "code",
   "execution_count": 135,
   "metadata": {},
   "outputs": [
    {
     "name": "stdout",
     "output_type": "stream",
     "text": [
      "18\n"
     ]
    },
    {
     "data": {
      "text/plain": [
       "{'original_text': 'A song can make or ruin a person’s day if they let it get to thm.',\n",
       " 'spell_corrected_text': 'A song can make or ruin a persons day if they let it get to the',\n",
       " 'correction_dict': {'person’s': 'persons', 'thm': 'the'}}"
      ]
     },
     "execution_count": 135,
     "metadata": {},
     "output_type": "execute_result"
    }
   ],
   "source": [
    "#26\n",
    "sp.spell_correct('A song can make or ruin a person’s day if they let it get to thm.')"
   ]
  },
  {
   "cell_type": "code",
   "execution_count": 136,
   "metadata": {},
   "outputs": [
    {
     "name": "stdout",
     "output_type": "stream",
     "text": [
      "12\n"
     ]
    },
    {
     "data": {
      "text/plain": [
       "{'original_text': 'He decided water-skiing on a frzen lake wasn’t a good idea.',\n",
       " 'spell_corrected_text': \"He decided water-ski on a frozen lake wasn't a good idea\",\n",
       " 'correction_dict': {'water-skiing': 'water-ski',\n",
       "  'frzen': 'frozen',\n",
       "  'wasn’t': \"wasn't\"}}"
      ]
     },
     "execution_count": 136,
     "metadata": {},
     "output_type": "execute_result"
    }
   ],
   "source": [
    "#27\n",
    "sp.spell_correct('He decided water-skiing on a frzen lake wasn’t a good idea.')"
   ]
  },
  {
   "cell_type": "code",
   "execution_count": 140,
   "metadata": {},
   "outputs": [
    {
     "name": "stdout",
     "output_type": "stream",
     "text": [
      "10\n"
     ]
    },
    {
     "data": {
      "text/plain": [
       "{'original_text': 'There is a resaon that roses have thonrs.',\n",
       " 'spell_corrected_text': 'There is a reason that roses have thorns',\n",
       " 'correction_dict': {'resaon': 'reason', 'thonrs': 'thorns'}}"
      ]
     },
     "execution_count": 140,
     "metadata": {},
     "output_type": "execute_result"
    }
   ],
   "source": [
    "#28\n",
    "sp.spell_correct('There is a resaon that roses have thonrs.')"
   ]
  },
  {
   "cell_type": "code",
   "execution_count": 144,
   "metadata": {},
   "outputs": [
    {
     "name": "stdout",
     "output_type": "stream",
     "text": [
      "14\n"
     ]
    },
    {
     "data": {
      "text/plain": [
       "{'original_text': 'Noboyd has encountered an explosve daisy and lived to tell the tal.',\n",
       " 'spell_corrected_text': 'nobody has encountered an explosive daisy and lived to tell the tal',\n",
       " 'correction_dict': {'Noboyd': 'nobody', 'explosve': 'explosive'}}"
      ]
     },
     "execution_count": 144,
     "metadata": {},
     "output_type": "execute_result"
    }
   ],
   "source": [
    "#29\n",
    "sp.spell_correct('Noboyd has encountered an explosve daisy and lived to tell the tal.')"
   ]
  },
  {
   "cell_type": "code",
   "execution_count": 148,
   "metadata": {},
   "outputs": [
    {
     "name": "stdout",
     "output_type": "stream",
     "text": [
      "14\n"
     ]
    },
    {
     "data": {
      "text/plain": [
       "{'original_text': 'Charlis ate the frech fries knowing they would be his last meal.',\n",
       " 'spell_corrected_text': 'charles ate the frech fries knowing they would be his last meal',\n",
       " 'correction_dict': {'Charlis': 'charles'}}"
      ]
     },
     "execution_count": 148,
     "metadata": {},
     "output_type": "execute_result"
    }
   ],
   "source": [
    "#30\n",
    "sp.spell_correct('Charlis ate the frech fries knowing they would be his last meal.')"
   ]
  },
  {
   "cell_type": "code",
   "execution_count": 152,
   "metadata": {},
   "outputs": [
    {
     "name": "stdout",
     "output_type": "stream",
     "text": [
      "8\n"
     ]
    },
    {
     "data": {
      "text/plain": [
       "{'original_text': 'Tom got a samll picee of pie.',\n",
       " 'spell_corrected_text': 'Tom got a small piece of pie',\n",
       " 'correction_dict': {'samll': 'small', 'picee': 'piece'}}"
      ]
     },
     "execution_count": 152,
     "metadata": {},
     "output_type": "execute_result"
    }
   ],
   "source": [
    "#31\n",
    "sp.spell_correct('Tom got a sll picee of pie.')"
   ]
  },
  {
   "cell_type": "code",
   "execution_count": 156,
   "metadata": {},
   "outputs": [
    {
     "name": "stdout",
     "output_type": "stream",
     "text": [
      "14\n"
     ]
    },
    {
     "data": {
      "text/plain": [
       "{'original_text': 'I dont respect anybody who cant tell the differnce between Pepsi and Coke.',\n",
       " 'spell_corrected_text': 'I dent respect anybody who cant tell the difference between Pepsi and Coke',\n",
       " 'correction_dict': {'dont': 'dent', 'differnce': 'difference'}}"
      ]
     },
     "execution_count": 156,
     "metadata": {},
     "output_type": "execute_result"
    }
   ],
   "source": [
    "#32\n",
    "sp.spell_correct('I dont respect anybody who cant tell the differnce between Pepsi and Coke.')"
   ]
  },
  {
   "cell_type": "code",
   "execution_count": 162,
   "metadata": {},
   "outputs": [
    {
     "name": "stdout",
     "output_type": "stream",
     "text": [
      "10\n"
     ]
    },
    {
     "data": {
      "text/plain": [
       "{'original_text': 'I caught my squirerl rustilng through my gym bag.',\n",
       " 'spell_corrected_text': 'I caught my squirrel rustling through my gym bag',\n",
       " 'correction_dict': {'squirerl': 'squirrel', 'rustilng': 'rustling'}}"
      ]
     },
     "execution_count": 162,
     "metadata": {},
     "output_type": "execute_result"
    }
   ],
   "source": [
    "#33\n",
    "sp.spell_correct('I caught my squirerl rustilng through my gym bag.')"
   ]
  },
  {
   "cell_type": "code",
   "execution_count": 164,
   "metadata": {},
   "outputs": [
    {
     "name": "stdout",
     "output_type": "stream",
     "text": [
      "14\n"
     ]
    },
    {
     "data": {
      "text/plain": [
       "{'original_text': 'Her life in the cofines of the house becme her new normal.',\n",
       " 'spell_corrected_text': 'Her life in the confines of the house became her new normal',\n",
       " 'correction_dict': {'cofines': 'confines', 'becme': 'became'}}"
      ]
     },
     "execution_count": 164,
     "metadata": {},
     "output_type": "execute_result"
    }
   ],
   "source": [
    "#34\n",
    "sp.spell_correct('Her life in the cofines of the house becme her new normal.')"
   ]
  },
  {
   "cell_type": "code",
   "execution_count": 168,
   "metadata": {},
   "outputs": [
    {
     "name": "stdout",
     "output_type": "stream",
     "text": [
      "12\n"
     ]
    },
    {
     "data": {
      "text/plain": [
       "{'original_text': 'There was coal in his sohcking and he was thrilled.',\n",
       " 'spell_corrected_text': 'There was coal in his shocking and he was thriller',\n",
       " 'correction_dict': {'sohcking': 'shocking', 'thrilled': 'thriller'}}"
      ]
     },
     "execution_count": 168,
     "metadata": {},
     "output_type": "execute_result"
    }
   ],
   "source": [
    "#35\n",
    "sp.spell_correct('There was coal in his sohcking and he was thrilled.')"
   ]
  },
  {
   "cell_type": "code",
   "execution_count": 169,
   "metadata": {},
   "outputs": [
    {
     "name": "stdout",
     "output_type": "stream",
     "text": [
      "10\n"
     ]
    },
    {
     "data": {
      "text/plain": [
       "{'original_text': 'Iron pyrite is the most foolish of all mierals.',\n",
       " 'spell_corrected_text': 'Iron part is the most foolish of all minerals',\n",
       " 'correction_dict': {'pyrite': 'part', 'mierals': 'minerals'}}"
      ]
     },
     "execution_count": 169,
     "metadata": {},
     "output_type": "execute_result"
    }
   ],
   "source": [
    "#36\n",
    "sp.spell_correct('Iron pyrite is the most foolish of all mierals.')"
   ]
  },
  {
   "cell_type": "code",
   "execution_count": 174,
   "metadata": {},
   "outputs": [
    {
     "name": "stdout",
     "output_type": "stream",
     "text": [
      "14\n"
     ]
    },
    {
     "data": {
      "text/plain": [
       "{'original_text': 'I would be delighted if the sea were flul of cucmuber juice.',\n",
       " 'spell_corrected_text': 'I would be delegated if the sea were full of number juice',\n",
       " 'correction_dict': {'delighted': 'delegated',\n",
       "  'flul': 'full',\n",
       "  'cucmuber': 'number'}}"
      ]
     },
     "execution_count": 174,
     "metadata": {},
     "output_type": "execute_result"
    }
   ],
   "source": [
    "#37\n",
    "sp.spell_correct('I would be delighted if the sea were flul of cucmuber juice.')"
   ]
  },
  {
   "cell_type": "code",
   "execution_count": 179,
   "metadata": {},
   "outputs": [
    {
     "name": "stdout",
     "output_type": "stream",
     "text": [
      "10\n"
     ]
    },
    {
     "data": {
      "text/plain": [
       "{'original_text': 'He puored rocks in the dungen of his mind.',\n",
       " 'spell_corrected_text': 'He party rocks in the dongguan of his mind',\n",
       " 'correction_dict': {'puored': 'party', 'dungen': 'dongguan'}}"
      ]
     },
     "execution_count": 179,
     "metadata": {},
     "output_type": "execute_result"
    }
   ],
   "source": [
    "#38\n",
    "sp.spell_correct('He puored rocks in the dungen of his mind.')"
   ]
  },
  {
   "cell_type": "code",
   "execution_count": 186,
   "metadata": {},
   "outputs": [
    {
     "name": "stdout",
     "output_type": "stream",
     "text": [
      "14\n"
     ]
    },
    {
     "data": {
      "text/plain": [
       "{'original_text': 'The miunte she landed she unerstood the reason this was a fly-over state.',\n",
       " 'spell_corrected_text': 'The mount she landed she understood the reason this was a full-power state',\n",
       " 'correction_dict': {'miunte': 'mount',\n",
       "  'unerstood': 'understood',\n",
       "  'fly-over': 'full-power'}}"
      ]
     },
     "execution_count": 186,
     "metadata": {},
     "output_type": "execute_result"
    }
   ],
   "source": [
    "#39\n",
    "sp.spell_correct('The miunte she landed she unerstood the reason this was a fly-over state.')"
   ]
  },
  {
   "cell_type": "code",
   "execution_count": 190,
   "metadata": {},
   "outputs": [
    {
     "name": "stdout",
     "output_type": "stream",
     "text": [
      "8\n"
     ]
    },
    {
     "data": {
      "text/plain": [
       "{'original_text': 'The mysteroius diary recods the voice.',\n",
       " 'spell_corrected_text': 'The masters diary records the voice',\n",
       " 'correction_dict': {'mysteroius': 'masters', 'recods': 'records'}}"
      ]
     },
     "execution_count": 190,
     "metadata": {},
     "output_type": "execute_result"
    }
   ],
   "source": [
    "#40\n",
    "sp.spell_correct('The mysteroius diary recods the voice.')"
   ]
  },
  {
   "cell_type": "code",
   "execution_count": 196,
   "metadata": {},
   "outputs": [
    {
     "name": "stdout",
     "output_type": "stream",
     "text": [
      "16\n"
     ]
    },
    {
     "data": {
      "text/plain": [
       "{'original_text': 'Malls are great plaecs to shop; I can find eveything I need under one rfoo.',\n",
       " 'spell_corrected_text': 'Malls are great places to shop  I can find everything I need under one roo',\n",
       " 'correction_dict': {'plaecs': 'places',\n",
       "  'eveything': 'everything',\n",
       "  'rfoo': 'roo'}}"
      ]
     },
     "execution_count": 196,
     "metadata": {},
     "output_type": "execute_result"
    }
   ],
   "source": [
    "#41\n",
    "sp.spell_correct('Malls are great plaecs to shop; I can find eveything I need under one rfoo.')"
   ]
  },
  {
   "cell_type": "code",
   "execution_count": 198,
   "metadata": {},
   "outputs": [
    {
     "name": "stdout",
     "output_type": "stream",
     "text": [
      "10\n"
     ]
    },
    {
     "data": {
      "text/plain": [
       "{'original_text': 'Her daily goal was to improe on yesterdy.',\n",
       " 'spell_corrected_text': 'Her daily goal was to improve on yesterday',\n",
       " 'correction_dict': {'improe': 'improve', 'yesterdy': 'yesterday'}}"
      ]
     },
     "execution_count": 198,
     "metadata": {},
     "output_type": "execute_result"
    }
   ],
   "source": [
    "#42\n",
    "sp.spell_correct('Her daily goal was to improe on yesterdy.')"
   ]
  },
  {
   "cell_type": "code",
   "execution_count": 202,
   "metadata": {},
   "outputs": [
    {
     "name": "stdout",
     "output_type": "stream",
     "text": [
      "8\n"
     ]
    },
    {
     "data": {
      "text/plain": [
       "{'original_text': 'Exciement replced fear untill the final momernt.',\n",
       " 'spell_corrected_text': 'excitement replaced fear until the final moment',\n",
       " 'correction_dict': {'Exciement': 'excitement',\n",
       "  'replced': 'replaced',\n",
       "  'untill': 'until',\n",
       "  'momernt': 'moment'}}"
      ]
     },
     "execution_count": 202,
     "metadata": {},
     "output_type": "execute_result"
    }
   ],
   "source": [
    "#43\n",
    "sp.spell_correct('Exciement replced fear untill the final momernt.')"
   ]
  },
  {
   "cell_type": "code",
   "execution_count": 206,
   "metadata": {},
   "outputs": [
    {
     "name": "stdout",
     "output_type": "stream",
     "text": [
      "12\n"
     ]
    },
    {
     "data": {
      "text/plain": [
       "{'original_text': 'The doll spun arund in circles in hope of coming alive.',\n",
       " 'spell_corrected_text': 'The doll spun around in circles in hope of coming alive',\n",
       " 'correction_dict': {'arund': 'around'}}"
      ]
     },
     "execution_count": 206,
     "metadata": {},
     "output_type": "execute_result"
    }
   ],
   "source": [
    "#44\n",
    "sp.spell_correct('The doll spun arund in circles in hope of coming alive.')"
   ]
  },
  {
   "cell_type": "code",
   "execution_count": 207,
   "metadata": {},
   "outputs": [
    {
     "name": "stdout",
     "output_type": "stream",
     "text": [
      "12\n"
     ]
    },
    {
     "data": {
      "text/plain": [
       "{'original_text': 'When transplnting seedlings, candied teapots will make the task easier.',\n",
       " 'spell_corrected_text': 'When transporting seedlings  candid teapot will make the task easier',\n",
       " 'correction_dict': {'transplnting': 'transporting',\n",
       "  'candied': 'candid',\n",
       "  'teapots': 'teapot'}}"
      ]
     },
     "execution_count": 207,
     "metadata": {},
     "output_type": "execute_result"
    }
   ],
   "source": [
    "#45\n",
    "sp.spell_correct('When transplnting seedlings, candied teapots will make the task easier.')"
   ]
  },
  {
   "cell_type": "code",
   "execution_count": 212,
   "metadata": {},
   "outputs": [
    {
     "name": "stdout",
     "output_type": "stream",
     "text": [
      "8\n"
     ]
    },
    {
     "data": {
      "text/plain": [
       "{'original_text': 'Her scream silnced the rowdy teenagrs.',\n",
       " 'spell_corrected_text': 'Her scream silenced the rowdy teenagers',\n",
       " 'correction_dict': {'silnced': 'silenced', 'teenagrs': 'teenagers'}}"
      ]
     },
     "execution_count": 212,
     "metadata": {},
     "output_type": "execute_result"
    }
   ],
   "source": [
    "#46\n",
    "sp.spell_correct('Her scream silnced the rowdy teenagrs.')"
   ]
  },
  {
   "cell_type": "code",
   "execution_count": null,
   "metadata": {},
   "outputs": [],
   "source": [
    "#47\n",
    "sp.spell_correct('It dawned on her that others could make her happier, but only she could make herself happy.')"
   ]
  },
  {
   "cell_type": "code",
   "execution_count": 213,
   "metadata": {},
   "outputs": [
    {
     "name": "stdout",
     "output_type": "stream",
     "text": [
      "8\n"
     ]
    },
    {
     "data": {
      "text/plain": [
       "{'original_text': 'The door slammed on the watmelon.',\n",
       " 'spell_corrected_text': 'The door claimed on the watermelon',\n",
       " 'correction_dict': {'slammed': 'claimed', 'watmelon': 'watermelon'}}"
      ]
     },
     "execution_count": 213,
     "metadata": {},
     "output_type": "execute_result"
    }
   ],
   "source": [
    "#48\n",
    "sp.spell_correct('The door slammed on the watmelon.')"
   ]
  },
  {
   "cell_type": "code",
   "execution_count": 215,
   "metadata": {},
   "outputs": [
    {
     "name": "stdout",
     "output_type": "stream",
     "text": [
      "14\n"
     ]
    },
    {
     "data": {
      "text/plain": [
       "{'original_text': 'In hopes of finding out the ruth, he entered the one-room libary.',\n",
       " 'spell_corrected_text': 'In hopes of finding out the ruth  he entered the one-room library',\n",
       " 'correction_dict': {'libary': 'library'}}"
      ]
     },
     "execution_count": 215,
     "metadata": {},
     "output_type": "execute_result"
    }
   ],
   "source": [
    "#49\n",
    "sp.spell_correct('In hopes of finding out the truth, he entered the one-room libary.')"
   ]
  },
  {
   "cell_type": "code",
   "execution_count": 223,
   "metadata": {},
   "outputs": [
    {
     "name": "stdout",
     "output_type": "stream",
     "text": [
      "8\n"
     ]
    },
    {
     "data": {
      "text/plain": [
       "{'original_text': 'He always wore his sunlasses at niht.',\n",
       " 'spell_corrected_text': 'He always wore his classes at night',\n",
       " 'correction_dict': {'sunlasses': 'classes', 'niht': 'night'}}"
      ]
     },
     "execution_count": 223,
     "metadata": {},
     "output_type": "execute_result"
    }
   ],
   "source": [
    "#50\n",
    "sp.spell_correct('He always wore his sunlasses at niht.')"
   ]
  }
 ],
 "metadata": {
  "kernelspec": {
   "display_name": "Python 3",
   "language": "python",
   "name": "python3"
  },
  "language_info": {
   "codemirror_mode": {
    "name": "ipython",
    "version": 3
   },
   "file_extension": ".py",
   "mimetype": "text/x-python",
   "name": "python",
   "nbconvert_exporter": "python",
   "pygments_lexer": "ipython3",
   "version": "3.7.9"
  }
 },
 "nbformat": 4,
 "nbformat_minor": 4
}
