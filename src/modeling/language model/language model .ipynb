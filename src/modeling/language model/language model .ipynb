{
 "cells": [
  {
   "cell_type": "code",
   "execution_count": 10,
   "metadata": {},
   "outputs": [],
   "source": [
    "import pandas as pd \n",
    "import warnings\n",
    "warnings.filterwarnings(\"ignore\", category=FutureWarning)\n",
    "from IPython.display import clear_output\n",
    "from spello.model import SpellCorrectionModel  \n",
    "sp = SpellCorrectionModel(language='en')  "
   ]
  },
  {
   "cell_type": "code",
   "execution_count": 2,
   "metadata": {},
   "outputs": [],
   "source": [
    "data=pd.read_csv('wikisent2.txt',\n",
    "                sep='\\n',\n",
    "                error_bad_lines=False,\n",
    "                 names=['sentences']\n",
    "                )"
   ]
  },
  {
   "cell_type": "code",
   "execution_count": 3,
   "metadata": {},
   "outputs": [
    {
     "data": {
      "text/html": [
       "<div>\n",
       "<style scoped>\n",
       "    .dataframe tbody tr th:only-of-type {\n",
       "        vertical-align: middle;\n",
       "    }\n",
       "\n",
       "    .dataframe tbody tr th {\n",
       "        vertical-align: top;\n",
       "    }\n",
       "\n",
       "    .dataframe thead th {\n",
       "        text-align: right;\n",
       "    }\n",
       "</style>\n",
       "<table border=\"1\" class=\"dataframe\">\n",
       "  <thead>\n",
       "    <tr style=\"text-align: right;\">\n",
       "      <th></th>\n",
       "      <th>sentences</th>\n",
       "    </tr>\n",
       "  </thead>\n",
       "  <tbody>\n",
       "    <tr>\n",
       "      <th>0</th>\n",
       "      <td>0.000123, which corresponds to a distance of 7...</td>\n",
       "    </tr>\n",
       "    <tr>\n",
       "      <th>1</th>\n",
       "      <td>000webhost is a free web hosting service, oper...</td>\n",
       "    </tr>\n",
       "    <tr>\n",
       "      <th>2</th>\n",
       "      <td>0010x0010 is a Dutch-born audiovisual artist, ...</td>\n",
       "    </tr>\n",
       "    <tr>\n",
       "      <th>3</th>\n",
       "      <td>0-0-1-3 is an alcohol abuse prevention program...</td>\n",
       "    </tr>\n",
       "    <tr>\n",
       "      <th>4</th>\n",
       "      <td>0.01 is the debut studio album of H3llb3nt, re...</td>\n",
       "    </tr>\n",
       "  </tbody>\n",
       "</table>\n",
       "</div>"
      ],
      "text/plain": [
       "                                           sentences\n",
       "0  0.000123, which corresponds to a distance of 7...\n",
       "1  000webhost is a free web hosting service, oper...\n",
       "2  0010x0010 is a Dutch-born audiovisual artist, ...\n",
       "3  0-0-1-3 is an alcohol abuse prevention program...\n",
       "4  0.01 is the debut studio album of H3llb3nt, re..."
      ]
     },
     "execution_count": 3,
     "metadata": {},
     "output_type": "execute_result"
    }
   ],
   "source": [
    "data.head()"
   ]
  },
  {
   "cell_type": "code",
   "execution_count": 5,
   "metadata": {},
   "outputs": [
    {
     "data": {
      "text/html": [
       "<div>\n",
       "<style scoped>\n",
       "    .dataframe tbody tr th:only-of-type {\n",
       "        vertical-align: middle;\n",
       "    }\n",
       "\n",
       "    .dataframe tbody tr th {\n",
       "        vertical-align: top;\n",
       "    }\n",
       "\n",
       "    .dataframe thead th {\n",
       "        text-align: right;\n",
       "    }\n",
       "</style>\n",
       "<table border=\"1\" class=\"dataframe\">\n",
       "  <thead>\n",
       "    <tr style=\"text-align: right;\">\n",
       "      <th></th>\n",
       "      <th>sentences</th>\n",
       "    </tr>\n",
       "  </thead>\n",
       "  <tbody>\n",
       "    <tr>\n",
       "      <th>3085642</th>\n",
       "      <td>It is located in the north-west of the Belait ...</td>\n",
       "    </tr>\n",
       "    <tr>\n",
       "      <th>6662168</th>\n",
       "      <td>There is access from Whitfield Hill.</td>\n",
       "    </tr>\n",
       "    <tr>\n",
       "      <th>4509846</th>\n",
       "      <td>Pearls Kabaddi World Cup 2011 was the second e...</td>\n",
       "    </tr>\n",
       "    <tr>\n",
       "      <th>6703022</th>\n",
       "      <td>The rim overlaps a slightly smaller crater to ...</td>\n",
       "    </tr>\n",
       "    <tr>\n",
       "      <th>4065178</th>\n",
       "      <td>Microdes diplodonta is a moth in the family Ge...</td>\n",
       "    </tr>\n",
       "  </tbody>\n",
       "</table>\n",
       "</div>"
      ],
      "text/plain": [
       "                                                 sentences\n",
       "3085642  It is located in the north-west of the Belait ...\n",
       "6662168               There is access from Whitfield Hill.\n",
       "4509846  Pearls Kabaddi World Cup 2011 was the second e...\n",
       "6703022  The rim overlaps a slightly smaller crater to ...\n",
       "4065178  Microdes diplodonta is a moth in the family Ge..."
      ]
     },
     "execution_count": 5,
     "metadata": {},
     "output_type": "execute_result"
    }
   ],
   "source": [
    "data.sample(5)"
   ]
  },
  {
   "cell_type": "code",
   "execution_count": 6,
   "metadata": {},
   "outputs": [
    {
     "data": {
      "text/html": [
       "<div>\n",
       "<style scoped>\n",
       "    .dataframe tbody tr th:only-of-type {\n",
       "        vertical-align: middle;\n",
       "    }\n",
       "\n",
       "    .dataframe tbody tr th {\n",
       "        vertical-align: top;\n",
       "    }\n",
       "\n",
       "    .dataframe thead th {\n",
       "        text-align: right;\n",
       "    }\n",
       "</style>\n",
       "<table border=\"1\" class=\"dataframe\">\n",
       "  <thead>\n",
       "    <tr style=\"text-align: right;\">\n",
       "      <th></th>\n",
       "      <th>sentences</th>\n",
       "    </tr>\n",
       "  </thead>\n",
       "  <tbody>\n",
       "    <tr>\n",
       "      <th>7866553</th>\n",
       "      <td>Zzyzx is the third studio album of the Norwegi...</td>\n",
       "    </tr>\n",
       "    <tr>\n",
       "      <th>7866554</th>\n",
       "      <td>Zzyzzyxx is a stand-up coin-operated arcade ga...</td>\n",
       "    </tr>\n",
       "    <tr>\n",
       "      <th>7866555</th>\n",
       "      <td>Zzzax is a fictional character appearing in Am...</td>\n",
       "    </tr>\n",
       "    <tr>\n",
       "      <th>7866556</th>\n",
       "      <td>ZZ, ZE, EE and EZ are the four structural isom...</td>\n",
       "    </tr>\n",
       "    <tr>\n",
       "      <th>7866557</th>\n",
       "      <td>Z (Z [ZETTO]) is the fifth album released by t...</td>\n",
       "    </tr>\n",
       "  </tbody>\n",
       "</table>\n",
       "</div>"
      ],
      "text/plain": [
       "                                                 sentences\n",
       "7866553  Zzyzx is the third studio album of the Norwegi...\n",
       "7866554  Zzyzzyxx is a stand-up coin-operated arcade ga...\n",
       "7866555  Zzzax is a fictional character appearing in Am...\n",
       "7866556  ZZ, ZE, EE and EZ are the four structural isom...\n",
       "7866557  Z (Z [ZETTO]) is the fifth album released by t..."
      ]
     },
     "execution_count": 6,
     "metadata": {},
     "output_type": "execute_result"
    }
   ],
   "source": [
    "data.tail()"
   ]
  },
  {
   "cell_type": "code",
   "execution_count": 7,
   "metadata": {},
   "outputs": [
    {
     "data": {
      "text/plain": [
       "Index(['sentences'], dtype='object')"
      ]
     },
     "execution_count": 7,
     "metadata": {},
     "output_type": "execute_result"
    }
   ],
   "source": [
    "data.columns"
   ]
  },
  {
   "cell_type": "code",
   "execution_count": 8,
   "metadata": {},
   "outputs": [
    {
     "name": "stdout",
     "output_type": "stream",
     "text": [
      "<class 'pandas.core.frame.DataFrame'>\n",
      "RangeIndex: 7866558 entries, 0 to 7866557\n",
      "Data columns (total 1 columns):\n",
      " #   Column     Dtype \n",
      "---  ------     ----- \n",
      " 0   sentences  object\n",
      "dtypes: object(1)\n",
      "memory usage: 60.0+ MB\n"
     ]
    }
   ],
   "source": [
    "data.info()"
   ]
  },
  {
   "cell_type": "code",
   "execution_count": 9,
   "metadata": {},
   "outputs": [
    {
     "data": {
      "text/html": [
       "<div>\n",
       "<style scoped>\n",
       "    .dataframe tbody tr th:only-of-type {\n",
       "        vertical-align: middle;\n",
       "    }\n",
       "\n",
       "    .dataframe tbody tr th {\n",
       "        vertical-align: top;\n",
       "    }\n",
       "\n",
       "    .dataframe thead th {\n",
       "        text-align: right;\n",
       "    }\n",
       "</style>\n",
       "<table border=\"1\" class=\"dataframe\">\n",
       "  <thead>\n",
       "    <tr style=\"text-align: right;\">\n",
       "      <th></th>\n",
       "      <th>sentences</th>\n",
       "    </tr>\n",
       "  </thead>\n",
       "  <tbody>\n",
       "    <tr>\n",
       "      <th>count</th>\n",
       "      <td>7866558</td>\n",
       "    </tr>\n",
       "    <tr>\n",
       "      <th>unique</th>\n",
       "      <td>7866543</td>\n",
       "    </tr>\n",
       "    <tr>\n",
       "      <th>top</th>\n",
       "      <td>Take It to the Limit.</td>\n",
       "    </tr>\n",
       "    <tr>\n",
       "      <th>freq</th>\n",
       "      <td>2</td>\n",
       "    </tr>\n",
       "  </tbody>\n",
       "</table>\n",
       "</div>"
      ],
      "text/plain": [
       "                    sentences\n",
       "count                 7866558\n",
       "unique                7866543\n",
       "top     Take It to the Limit.\n",
       "freq                        2"
      ]
     },
     "execution_count": 9,
     "metadata": {},
     "output_type": "execute_result"
    }
   ],
   "source": [
    "data.describe()"
   ]
  },
  {
   "cell_type": "code",
   "execution_count": 10,
   "metadata": {},
   "outputs": [],
   "source": [
    "sub='\\n'\n",
    "data[\"newline\"]= data[\"sentences\"].str.find(sub)"
   ]
  },
  {
   "cell_type": "code",
   "execution_count": 11,
   "metadata": {},
   "outputs": [
    {
     "data": {
      "text/html": [
       "<div>\n",
       "<style scoped>\n",
       "    .dataframe tbody tr th:only-of-type {\n",
       "        vertical-align: middle;\n",
       "    }\n",
       "\n",
       "    .dataframe tbody tr th {\n",
       "        vertical-align: top;\n",
       "    }\n",
       "\n",
       "    .dataframe thead th {\n",
       "        text-align: right;\n",
       "    }\n",
       "</style>\n",
       "<table border=\"1\" class=\"dataframe\">\n",
       "  <thead>\n",
       "    <tr style=\"text-align: right;\">\n",
       "      <th></th>\n",
       "      <th>sentences</th>\n",
       "      <th>newline</th>\n",
       "    </tr>\n",
       "  </thead>\n",
       "  <tbody>\n",
       "    <tr>\n",
       "      <th>0</th>\n",
       "      <td>000webhost is a free web hosting service, oper...</td>\n",
       "      <td>-1</td>\n",
       "    </tr>\n",
       "    <tr>\n",
       "      <th>1</th>\n",
       "      <td>0010x0010 is a Dutch-born audiovisual artist, ...</td>\n",
       "      <td>-1</td>\n",
       "    </tr>\n",
       "    <tr>\n",
       "      <th>2</th>\n",
       "      <td>0-0-1-3 is an alcohol abuse prevention program...</td>\n",
       "      <td>-1</td>\n",
       "    </tr>\n",
       "    <tr>\n",
       "      <th>3</th>\n",
       "      <td>0.01 is the debut studio album of H3llb3nt, re...</td>\n",
       "      <td>-1</td>\n",
       "    </tr>\n",
       "    <tr>\n",
       "      <th>4</th>\n",
       "      <td>001 of 3 February 1997, which was signed betwe...</td>\n",
       "      <td>-1</td>\n",
       "    </tr>\n",
       "    <tr>\n",
       "      <th>...</th>\n",
       "      <td>...</td>\n",
       "      <td>...</td>\n",
       "    </tr>\n",
       "    <tr>\n",
       "      <th>7866553</th>\n",
       "      <td>Zzyzx is the third studio album of the Norwegi...</td>\n",
       "      <td>-1</td>\n",
       "    </tr>\n",
       "    <tr>\n",
       "      <th>7866554</th>\n",
       "      <td>Zzyzzyxx is a stand-up coin-operated arcade ga...</td>\n",
       "      <td>-1</td>\n",
       "    </tr>\n",
       "    <tr>\n",
       "      <th>7866555</th>\n",
       "      <td>Zzzax is a fictional character appearing in Am...</td>\n",
       "      <td>-1</td>\n",
       "    </tr>\n",
       "    <tr>\n",
       "      <th>7866556</th>\n",
       "      <td>ZZ, ZE, EE and EZ are the four structural isom...</td>\n",
       "      <td>-1</td>\n",
       "    </tr>\n",
       "    <tr>\n",
       "      <th>7866557</th>\n",
       "      <td>Z (Z [ZETTO]) is the fifth album released by t...</td>\n",
       "      <td>-1</td>\n",
       "    </tr>\n",
       "  </tbody>\n",
       "</table>\n",
       "<p>7866558 rows × 2 columns</p>\n",
       "</div>"
      ],
      "text/plain": [
       "                                                 sentences  newline\n",
       "0        000webhost is a free web hosting service, oper...       -1\n",
       "1        0010x0010 is a Dutch-born audiovisual artist, ...       -1\n",
       "2        0-0-1-3 is an alcohol abuse prevention program...       -1\n",
       "3        0.01 is the debut studio album of H3llb3nt, re...       -1\n",
       "4        001 of 3 February 1997, which was signed betwe...       -1\n",
       "...                                                    ...      ...\n",
       "7866553  Zzyzx is the third studio album of the Norwegi...       -1\n",
       "7866554  Zzyzzyxx is a stand-up coin-operated arcade ga...       -1\n",
       "7866555  Zzzax is a fictional character appearing in Am...       -1\n",
       "7866556  ZZ, ZE, EE and EZ are the four structural isom...       -1\n",
       "7866557  Z (Z [ZETTO]) is the fifth album released by t...       -1\n",
       "\n",
       "[7866558 rows x 2 columns]"
      ]
     },
     "execution_count": 11,
     "metadata": {},
     "output_type": "execute_result"
    }
   ],
   "source": [
    "data"
   ]
  },
  {
   "cell_type": "markdown",
   "metadata": {},
   "source": [
    "## -1 means that '\\n' doesnt exicst"
   ]
  },
  {
   "cell_type": "code",
   "execution_count": 12,
   "metadata": {},
   "outputs": [],
   "source": [
    "sentences_list=data['sentences'].tolist()"
   ]
  },
  {
   "cell_type": "code",
   "execution_count": 13,
   "metadata": {},
   "outputs": [
    {
     "data": {
      "text/plain": [
       "7866558"
      ]
     },
     "execution_count": 13,
     "metadata": {},
     "output_type": "execute_result"
    }
   ],
   "source": [
    "len(sentences_list)"
   ]
  },
  {
   "cell_type": "code",
   "execution_count": null,
   "metadata": {},
   "outputs": [
    {
     "name": "stdout",
     "output_type": "stream",
     "text": [
      "Spello training started..\n",
      "Context model training started ...\n"
     ]
    }
   ],
   "source": [
    "# sp.train(sentences_list)"
   ]
  },
  {
   "cell_type": "code",
   "execution_count": 26,
   "metadata": {},
   "outputs": [],
   "source": [
    "data_chunks=pd.read_csv('wikisent2.txt',\n",
    "                chunksize=100000,\n",
    "                sep='\\n',\n",
    "                error_bad_lines=False,\n",
    "                header=None,\n",
    "                names=['sentences']\n",
    "                )"
   ]
  },
  {
   "cell_type": "code",
   "execution_count": 27,
   "metadata": {},
   "outputs": [
    {
     "name": "stdout",
     "output_type": "stream",
     "text": [
      "We are in 80 chunk\n",
      "Spello training started..\n",
      "Context model training started ...\n",
      "Symspell training started ...\n",
      "Phoneme training started ...\n",
      "Spello training completed successfully ...\n",
      "Done\n"
     ]
    }
   ],
   "source": [
    "counter=1\n",
    "for chunk in data_chunks:\n",
    "    chunk_df=pd.DataFrame(chunk['sentences'])\n",
    "    clear_output(wait=True)\n",
    "    counter+=1\n",
    "    print(\"We are in {} chunk\".format(counter))\n",
    "    sentences_list=chunk_df['sentences'].tolist()\n",
    "    sp.train(sentences_listsp.spell_correct('i wnt to ply futbal'))\n",
    "    sentences_list=None \n",
    "    chunk_df=Nonesp.spell_correct('i wnt to ply futbal')\n",
    "else:\n",
    "    print(\"Done\")"
   ]
  },
  {
   "cell_type": "code",
   "execution_count": 28,
   "metadata": {},
   "outputs": [
    {
     "data": {
      "text/plain": [
       "'D:\\\\jupyternotebooks\\\\prototype2\\\\model.pkl'"
      ]
     },
     "execution_count": 28,
     "metadata": {},
     "output_type": "execute_result"
    }
   ],
   "source": [
    "sp.save(model_save_dir='D:\\jupyternotebooks\\prototype2')"
   ]
  },
  {
   "cell_type": "code",
   "execution_count": 29,
   "metadata": {},
   "outputs": [
    {
     "data": {
      "text/plain": [
       "<spello.model.SpellCorrectionModel at 0x1bc89a983c8>"
      ]
     },
     "execution_count": 29,
     "metadata": {},
     "output_type": "execute_result"
    }
   ],
   "source": [
    "sp.load('D:\\jupyternotebooks\\prototype2\\model.pkl')"
   ]
  },
  {
   "cell_type": "code",
   "execution_count": 30,
   "metadata": {},
   "outputs": [
    {
     "name": "stdout",
     "output_type": "stream",
     "text": [
      "6\n"
     ]
    },
    {
     "data": {
      "text/plain": [
       "{'original_text': 'i wnt to ply futbal',\n",
       " 'spell_corrected_text': 'i wnt to play football',\n",
       " 'correction_dict': {'ply': 'play', 'futbal': 'football'}}"
      ]
     },
     "execution_count": 30,
     "metadata": {},
     "output_type": "execute_result"
    }
   ],
   "source": [
    "sp.spell_correct('i wnt to ply futbal')"
   ]
  },
  {
   "cell_type": "code",
   "execution_count": 31,
   "metadata": {},
   "outputs": [
    {
     "name": "stdout",
     "output_type": "stream",
     "text": [
      "6\n"
     ]
    },
    {
     "data": {
      "text/plain": [
       "{'original_text': 'i lov to ply futbal',\n",
       " 'spell_corrected_text': 'i love to play football',\n",
       " 'correction_dict': {'lov': 'love', 'ply': 'play', 'futbal': 'football'}}"
      ]
     },
     "execution_count": 31,
     "metadata": {},
     "output_type": "execute_result"
    }
   ],
   "source": [
    "sp.spell_correct('i lov to ply futbal')"
   ]
  },
  {
   "cell_type": "code",
   "execution_count": 37,
   "metadata": {},
   "outputs": [
    {
     "name": "stdout",
     "output_type": "stream",
     "text": [
      "6\n"
     ]
    },
    {
     "data": {
      "text/plain": [
       "{'original_text': 'i lke my food',\n",
       " 'spell_corrected_text': 'i like my food',\n",
       " 'correction_dict': {'lke': 'like'}}"
      ]
     },
     "execution_count": 37,
     "metadata": {},
     "output_type": "execute_result"
    }
   ],
   "source": [
    "sp.spell_correct('i lke my food')"
   ]
  },
  {
   "cell_type": "code",
   "execution_count": null,
   "metadata": {},
   "outputs": [],
   "source": []
  }
 ],
 "metadata": {
  "kernelspec": {
   "display_name": "Python 3",
   "language": "python",
   "name": "python3"
  },
  "language_info": {
   "codemirror_mode": {
    "name": "ipython",
    "version": 3
   },
   "file_extension": ".py",
   "mimetype": "text/x-python",
   "name": "python",
   "nbconvert_exporter": "python",
   "pygments_lexer": "ipython3",
   "version": "3.7.9"
  }
 },
 "nbformat": 4,
 "nbformat_minor": 4
}
