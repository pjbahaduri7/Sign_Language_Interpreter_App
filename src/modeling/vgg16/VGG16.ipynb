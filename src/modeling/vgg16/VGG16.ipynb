{
 "cells": [
  {
   "cell_type": "code",
   "execution_count": 1,
   "metadata": {},
   "outputs": [],
   "source": [
    "import numpy as np \n",
    "import tensorflow as tf\n",
    "import keras\n",
    "from keras import utils,callbacks\n",
    "from keras.models import Sequential,Model\n",
    "from keras.applications.vgg16 import VGG16\n",
    "from keras.layers.core import Dropout,Flatten,Dense\n",
    "from keras.layers.convolutional import Convolution2D,MaxPooling2D,ZeroPadding2D\n",
    "from keras.optimizers import Adam\n",
    "from sklearn.model_selection import train_test_split, StratifiedKFold\n",
    "from skimage.transform import resize\n",
    "from tensorflow.keras.preprocessing.image import ImageDataGenerator\n",
    "from tensorflow.keras.applications.vgg16 import preprocess_input,decode_predictions\n",
    "import PIL.Image\n",
    "from tensorflow import lite \n",
    "import matplotlib.pyplot as plt \n",
    "import datetime"
   ]
  },
  {
   "cell_type": "code",
   "execution_count": 2,
   "metadata": {},
   "outputs": [],
   "source": [
    "train_dir=r\"D:\\jupyternotebooks\\prototype 1\\\n",
    "n\"\n",
    "test_dir=r\"D:\\jupyternotebooks\\prototype 1\\asl_alphabet_test\\asl_alphabet_test\""
   ]
  },
  {
   "cell_type": "code",
   "execution_count": 3,
   "metadata": {},
   "outputs": [],
   "source": [
    "classes=29\n",
    "batch=256\n",
    "epochs=10\n",
    "lnr=0.0001"
   ]
  },
  {
   "cell_type": "code",
   "execution_count": 4,
   "metadata": {},
   "outputs": [
    {
     "name": "stdout",
     "output_type": "stream",
     "text": [
      "Found 78300 images belonging to 29 classes.\n",
      "Found 8694 images belonging to 29 classes.\n"
     ]
    }
   ],
   "source": [
    "img_gen=ImageDataGenerator(rescale=1./255,validation_split=0.1)\n",
    "train=img_gen.flow_from_directory(train_dir,target_size=(64,64),subset=\"training\")\n",
    "eval=img_gen.flow_from_directory(train_dir,target_size=(64,64),subset=\"validation\")"
   ]
  },
  {
   "cell_type": "code",
   "execution_count": 5,
   "metadata": {},
   "outputs": [],
   "source": [
    "adam=Adam(learning_rate=lnr)\n",
    "model=Sequential()\n",
    "model.add(VGG16(weights='imagenet',include_top=False,input_shape=(64,64,3)))\n",
    "model.add(Flatten())\n",
    "model.add(Dense(256,activation='relu'))\n",
    "model.add(Dense(29,activation='softmax'))\n",
    "model.compile(optimizer=adam,loss='categorical_crossentropy',metrics=['accuracy'])"
   ]
  },
  {
   "cell_type": "code",
   "execution_count": 6,
   "metadata": {},
   "outputs": [
    {
     "name": "stdout",
     "output_type": "stream",
     "text": [
      "Model: \"sequential\"\n",
      "_________________________________________________________________\n",
      "Layer (type)                 Output Shape              Param #   \n",
      "=================================================================\n",
      "vgg16 (Functional)           (None, 2, 2, 512)         14714688  \n",
      "_________________________________________________________________\n",
      "flatten (Flatten)            (None, 2048)              0         \n",
      "_________________________________________________________________\n",
      "dense (Dense)                (None, 256)               524544    \n",
      "_________________________________________________________________\n",
      "dense_1 (Dense)              (None, 29)                7453      \n",
      "=================================================================\n",
      "Total params: 15,246,685\n",
      "Trainable params: 15,246,685\n",
      "Non-trainable params: 0\n",
      "_________________________________________________________________\n"
     ]
    }
   ],
   "source": [
    "model.summary()"
   ]
  },
  {
   "cell_type": "code",
   "execution_count": 7,
   "metadata": {},
   "outputs": [
    {
     "name": "stdout",
     "output_type": "stream",
     "text": [
      "14:49:33.504554\n"
     ]
    }
   ],
   "source": [
    "print(datetime.datetime.now().time())"
   ]
  },
  {
   "cell_type": "code",
   "execution_count": 8,
   "metadata": {
    "scrolled": true
   },
   "outputs": [
    {
     "name": "stdout",
     "output_type": "stream",
     "text": [
      "Epoch 1/10\n",
      "2447/2447 [==============================] - 1573s 640ms/step - loss: 0.3853 - accuracy: 0.8877 - val_loss: 0.1214 - val_accuracy: 0.9649\n",
      "Epoch 2/10\n",
      "2447/2447 [==============================] - 416s 170ms/step - loss: 0.0269 - accuracy: 0.9922 - val_loss: 0.0838 - val_accuracy: 0.9781\n",
      "Epoch 3/10\n",
      "2447/2447 [==============================] - 849s 347ms/step - loss: 0.0185 - accuracy: 0.9956 - val_loss: 0.0792 - val_accuracy: 0.9772\n",
      "Epoch 4/10\n",
      "2447/2447 [==============================] - 403s 165ms/step - loss: 0.0234 - accuracy: 0.9949 - val_loss: 0.1569 - val_accuracy: 0.9562\n",
      "Epoch 5/10\n",
      "2447/2447 [==============================] - 375s 153ms/step - loss: 0.0114 - accuracy: 0.9976 - val_loss: 0.1975 - val_accuracy: 0.9633\n",
      "Epoch 6/10\n",
      "2447/2447 [==============================] - 366s 150ms/step - loss: 0.0147 - accuracy: 0.9966 - val_loss: 0.0641 - val_accuracy: 0.9823\n",
      "Epoch 7/10\n",
      "2447/2447 [==============================] - 364s 149ms/step - loss: 0.0082 - accuracy: 0.9984 - val_loss: 0.0807 - val_accuracy: 0.9752\n",
      "Epoch 8/10\n",
      "2447/2447 [==============================] - 362s 148ms/step - loss: 0.0056 - accuracy: 0.9989 - val_loss: 0.0686 - val_accuracy: 0.9829\n",
      "Epoch 9/10\n",
      "2447/2447 [==============================] - 365s 149ms/step - loss: 0.0038 - accuracy: 0.9992 - val_loss: 0.0576 - val_accuracy: 0.9846\n",
      "Epoch 10/10\n",
      "2447/2447 [==============================] - 365s 149ms/step - loss: 0.0066 - accuracy: 0.9988 - val_loss: 0.0496 - val_accuracy: 0.9868\n"
     ]
    }
   ],
   "source": [
    "earlystopping=callbacks.EarlyStopping(monitor=\"val_loss\",\n",
    "                                      mode='min',\n",
    "                                      patience=5,\n",
    "                                      restore_best_weights=True)\n",
    "\n",
    "history=model.fit(train,\n",
    "                  validation_data=eval,\n",
    "                  epochs=10,\n",
    "                  shuffle=True,\n",
    "                  verbose=1,\n",
    "                  callbacks=[earlystopping])\n"
   ]
  },
  {
   "cell_type": "code",
   "execution_count": 9,
   "metadata": {},
   "outputs": [],
   "source": [
    "model_file=\"VGG16(10ep).h5\"\n",
    "keras.models.save_model(model,model_file)"
   ]
  },
  {
   "cell_type": "code",
   "execution_count": 10,
   "metadata": {},
   "outputs": [
    {
     "data": {
      "image/png": "[encoded data removed]",
      "text/plain": [
       "<Figure size 432x288 with 1 Axes>"
      ]
     },
     "metadata": {
      "needs_background": "light"
     },
     "output_type": "display_data"
    }
   ],
   "source": [
    "plt.subplot(211)\n",
    "plt.title('Loss(10 Ep)')\n",
    "plt.plot(history.history['loss'], label='train')\n",
    "plt.plot(history.history['val_loss'], label='test')\n",
    "plt.legend()\n",
    "plt.savefig('Loss(10 Ep).png')\n",
    "plt.show()"
   ]
  },
  {
   "cell_type": "code",
   "execution_count": 15,
   "metadata": {},
   "outputs": [
    {
     "data": {
      "image/png": "[encoded data removed]",
      "text/plain": [
       "<Figure size 432x288 with 1 Axes>"
      ]
     },
     "metadata": {
      "needs_background": "light"
     },
     "output_type": "display_data"
    }
   ],
   "source": [
    "plt.subplot(212)\n",
    "plt.title('Accuracy(10 Ep)')\n",
    "plt.plot(history.history['accuracy'], label='train')\n",
    "plt.plot(history.history['val_accuracy'], label='test')\n",
    "plt.legend()\n",
    "plt.savefig('Accuracy(10 Ep).png')\n",
    "plt.show()"
   ]
  },
  {
   "cell_type": "code",
   "execution_count": 12,
   "metadata": {},
   "outputs": [
    {
     "name": "stdout",
     "output_type": "stream",
     "text": [
      "16:20:13.926333\n"
     ]
    }
   ],
   "source": [
    "print(datetime.datetime.now().time())"
   ]
  },
  {
   "cell_type": "code",
   "execution_count": null,
   "metadata": {},
   "outputs": [],
   "source": [
    "# test=ImageDataGenerator(rescale=1./255).flow_from_directory(test_dir,target_size=(64,64),class_mode=None)\n",
    "# pred=model.predict(test)\n",
    "# pred = np.argmax(pred, axis=1)\n",
    "# pred"
   ]
  },
  {
   "cell_type": "code",
   "execution_count": null,
   "metadata": {},
   "outputs": [],
   "source": [
    "# model = keras.models.load_model('D:\\jupyternotebooks\\prototype 1')\n",
    "# dir=r\"D:\\jupyternotebooks\\test\"\n",
    "# test=ImageDataGenerator(rescale=1./255).flow_from_directory(dir,target_size=(64,64),class_mode=None)\n",
    "# pred=model.predict(test)\n",
    "# pred = np.argmax(pred, axis=1)\n",
    "# pred[0]"
   ]
  },
  {
   "cell_type": "code",
   "execution_count": 44,
   "metadata": {},
   "outputs": [],
   "source": [
    "adam=Adam(learning_rate=lnr)\n",
    "model=Sequential()\n",
    "model.add(VGG16(weights='imagenet',include_top=False,input_shape=(64,64,3)))\n",
    "model.add(Flatten())\n",
    "model.add(Dense(256,activation='relu'))\n",
    "model.add(Dense(29,activation='softmax'))\n",
    "model.compile(optimizer=adam,loss='categorical_crossentropy',metrics=['accuracy'])"
   ]
  },
  {
   "cell_type": "code",
   "execution_count": 45,
   "metadata": {},
   "outputs": [
    {
     "name": "stdout",
     "output_type": "stream",
     "text": [
      "Model: \"sequential_7\"\n",
      "_________________________________________________________________\n",
      "Layer (type)                 Output Shape              Param #   \n",
      "=================================================================\n",
      "vgg16 (Functional)           (None, 2, 2, 512)         14714688  \n",
      "_________________________________________________________________\n",
      "flatten_7 (Flatten)          (None, 2048)              0         \n",
      "_________________________________________________________________\n",
      "dense_14 (Dense)             (None, 256)               524544    \n",
      "_________________________________________________________________\n",
      "dense_15 (Dense)             (None, 29)                7453      \n",
      "=================================================================\n",
      "Total params: 15,246,685\n",
      "Trainable params: 15,246,685\n",
      "Non-trainable params: 0\n",
      "_________________________________________________________________\n"
     ]
    }
   ],
   "source": [
    "model.summary()"
   ]
  },
  {
   "cell_type": "code",
   "execution_count": 46,
   "metadata": {},
   "outputs": [
    {
     "name": "stdout",
     "output_type": "stream",
     "text": [
      "20:26:31.918852\n"
     ]
    }
   ],
   "source": [
    "print(datetime.datetime.now().time())"
   ]
  },
  {
   "cell_type": "code",
   "execution_count": 47,
   "metadata": {},
   "outputs": [
    {
     "name": "stdout",
     "output_type": "stream",
     "text": [
      "Epoch 1/25\n",
      "2447/2447 [==============================] - 1717s 701ms/step - loss: 0.3926 - accuracy: 0.8838 - val_loss: 0.2005 - val_accuracy: 0.9406\n",
      "Epoch 2/25\n",
      "2447/2447 [==============================] - 1290s 527ms/step - loss: 0.0191 - accuracy: 0.9947 - val_loss: 0.1860 - val_accuracy: 0.9603\n",
      "Epoch 3/25\n",
      "2447/2447 [==============================] - 453s 185ms/step - loss: 0.0138 - accuracy: 0.9970 - val_loss: 0.1102 - val_accuracy: 0.9737\n",
      "Epoch 4/25\n",
      "2447/2447 [==============================] - 647s 264ms/step - loss: 0.0121 - accuracy: 0.9971 - val_loss: 0.0713 - val_accuracy: 0.9849\n",
      "Epoch 5/25\n",
      "2447/2447 [==============================] - 575s 235ms/step - loss: 6.7038e-05 - accuracy: 1.0000 - val_loss: 0.0409 - val_accuracy: 0.9877\n",
      "Epoch 6/25\n",
      "2447/2447 [==============================] - 522s 213ms/step - loss: 1.9348e-06 - accuracy: 1.0000 - val_loss: 0.0413 - val_accuracy: 0.9883\n",
      "Epoch 7/25\n",
      "2447/2447 [==============================] - 419s 171ms/step - loss: 2.4693e-07 - accuracy: 1.0000 - val_loss: 0.0424 - val_accuracy: 0.9883\n",
      "Epoch 8/25\n",
      "2447/2447 [==============================] - 378s 155ms/step - loss: 6.2447e-08 - accuracy: 1.0000 - val_loss: 0.0418 - val_accuracy: 0.9892\n",
      "Epoch 9/25\n",
      "2447/2447 [==============================] - 378s 155ms/step - loss: 1.7958e-08 - accuracy: 1.0000 - val_loss: 0.0425 - val_accuracy: 0.9892\n",
      "Epoch 10/25\n",
      "2447/2447 [==============================] - 367s 150ms/step - loss: 5.4413e-09 - accuracy: 1.0000 - val_loss: 0.0437 - val_accuracy: 0.9893\n"
     ]
    }
   ],
   "source": [
    "earlystopping=callbacks.EarlyStopping(monitor=\"val_loss\",\n",
    "                                      mode='min',\n",
    "                                      patience=5,\n",
    "                                      restore_best_weights=True)\n",
    "\n",
    "history=model.fit(train,\n",
    "                  validation_data=eval,\n",
    "                  epochs=25,\n",
    "                  shuffle=True,\n",
    "                  verbose=1,\n",
    "                  callbacks=[earlystopping])"
   ]
  },
  {
   "cell_type": "code",
   "execution_count": 48,
   "metadata": {},
   "outputs": [],
   "source": [
    "model_file=\"VGG16(25ep).h5\"\n",
    "keras.models.save_model(model,model_file)"
   ]
  },
  {
   "cell_type": "code",
   "execution_count": 49,
   "metadata": {},
   "outputs": [
    {
     "data": {
      "image/png": "[encoded data removed]",
      "text/plain": [
       "<Figure size 432x288 with 1 Axes>"
      ]
     },
     "metadata": {
      "needs_background": "light"
     },
     "output_type": "display_data"
    }
   ],
   "source": [
    "plt.subplot(211)\n",
    "plt.title('Loss(25 Ep)')\n",
    "plt.plot(history.history['loss'], label='train')\n",
    "plt.plot(history.history['val_loss'], label='test')\n",
    "plt.legend()\n",
    "plt.savefig('Loss(25 Ep).png')\n",
    "plt.show()"
   ]
  },
  {
   "cell_type": "code",
   "execution_count": 50,
   "metadata": {},
   "outputs": [
    {
     "data": {
      "image/png": "[encoded data removed]",
      "text/plain": [
       "<Figure size 432x288 with 1 Axes>"
      ]
     },
     "metadata": {
      "needs_background": "light"
     },
     "output_type": "display_data"
    }
   ],
   "source": [
    "plt.subplot(212)\n",
    "plt.title('Accuracy(50 Ep)')\n",
    "plt.plot(history.history['accuracy'], label='train')\n",
    "plt.plot(history.history['val_accuracy'], label='test')\n",
    "plt.savefig('Accuracy(50 Ep).png')\n",
    "plt.show()"
   ]
  },
  {
   "cell_type": "code",
   "execution_count": 51,
   "metadata": {},
   "outputs": [
    {
     "name": "stdout",
     "output_type": "stream",
     "text": [
      "22:19:14.989116\n"
     ]
    }
   ],
   "source": [
    "print(datetime.datetime.now().time())"
   ]
  },
  {
   "cell_type": "code",
   "execution_count": 32,
   "metadata": {},
   "outputs": [],
   "source": [
    "adam=Adam(learning_rate=lnr)\n",
    "model=Sequential()\n",
    "model.add(VGG16(weights='imagenet',include_top=False,input_shape=(64,64,3)))\n",
    "model.add(Flatten())\n",
    "model.add(Dense(256,activation='relu'))\n",
    "model.add(Dense(29,activation='softmax'))\n",
    "model.compile(optimizer=adam,loss='categorical_crossentropy',metrics=['accuracy'])"
   ]
  },
  {
   "cell_type": "code",
   "execution_count": 33,
   "metadata": {},
   "outputs": [
    {
     "name": "stdout",
     "output_type": "stream",
     "text": [
      "Model: \"sequential_5\"\n",
      "_________________________________________________________________\n",
      "Layer (type)                 Output Shape              Param #   \n",
      "=================================================================\n",
      "vgg16 (Functional)           (None, 2, 2, 512)         14714688  \n",
      "_________________________________________________________________\n",
      "flatten_5 (Flatten)          (None, 2048)              0         \n",
      "_________________________________________________________________\n",
      "dense_10 (Dense)             (None, 256)               524544    \n",
      "_________________________________________________________________\n",
      "dense_11 (Dense)             (None, 29)                7453      \n",
      "=================================================================\n",
      "Total params: 15,246,685\n",
      "Trainable params: 15,246,685\n",
      "Non-trainable params: 0\n",
      "_________________________________________________________________\n"
     ]
    }
   ],
   "source": [
    "model.summary()"
   ]
  },
  {
   "cell_type": "code",
   "execution_count": 34,
   "metadata": {},
   "outputs": [
    {
     "name": "stdout",
     "output_type": "stream",
     "text": [
      "17:40:49.159177\n"
     ]
    }
   ],
   "source": [
    "print(datetime.datetime.now().time())"
   ]
  },
  {
   "cell_type": "code",
   "execution_count": 35,
   "metadata": {},
   "outputs": [
    {
     "name": "stdout",
     "output_type": "stream",
     "text": [
      "Epoch 1/50\n",
      "2447/2447 [==============================] - 484s 197ms/step - loss: 0.3875 - accuracy: 0.8854 - val_loss: 0.1953 - val_accuracy: 0.9530\n",
      "Epoch 2/50\n",
      "2447/2447 [==============================] - 518s 212ms/step - loss: 0.0265 - accuracy: 0.9932 - val_loss: 0.0649 - val_accuracy: 0.9836\n",
      "Epoch 3/50\n",
      "2447/2447 [==============================] - 1132s 463ms/step - loss: 0.0147 - accuracy: 0.9964 - val_loss: 0.0285 - val_accuracy: 0.9915\n",
      "Epoch 4/50\n",
      "2447/2447 [==============================] - 1085s 442ms/step - loss: 0.0107 - accuracy: 0.9977 - val_loss: 0.0465 - val_accuracy: 0.9870\n",
      "Epoch 5/50\n",
      "2447/2447 [==============================] - 1073s 439ms/step - loss: 0.0136 - accuracy: 0.9970 - val_loss: 0.0276 - val_accuracy: 0.9919\n",
      "Epoch 6/50\n",
      "2447/2447 [==============================] - 404s 165ms/step - loss: 1.8766e-05 - accuracy: 1.0000 - val_loss: 0.0221 - val_accuracy: 0.9941\n",
      "Epoch 7/50\n",
      "2447/2447 [==============================] - 352s 144ms/step - loss: 1.1943e-06 - accuracy: 1.0000 - val_loss: 0.0238 - val_accuracy: 0.9937\n",
      "Epoch 8/50\n",
      "2447/2447 [==============================] - 352s 144ms/step - loss: 1.1738e-07 - accuracy: 1.0000 - val_loss: 0.0256 - val_accuracy: 0.9933\n",
      "Epoch 9/50\n",
      "2447/2447 [==============================] - 351s 143ms/step - loss: 1.5772e-08 - accuracy: 1.0000 - val_loss: 0.0293 - val_accuracy: 0.9926\n",
      "Epoch 10/50\n",
      "2447/2447 [==============================] - 378s 155ms/step - loss: 5.0131e-09 - accuracy: 1.0000 - val_loss: 0.0283 - val_accuracy: 0.9928\n",
      "Epoch 11/50\n",
      "2447/2447 [==============================] - 1006s 411ms/step - loss: 1.7221e-09 - accuracy: 1.0000 - val_loss: 0.0282 - val_accuracy: 0.9928\n"
     ]
    }
   ],
   "source": [
    "earlystopping=callbacks.EarlyStopping(monitor=\"val_loss\",\n",
    "                                      mode='min',\n",
    "                                      patience=5,\n",
    "                                      restore_best_weights=True)\n",
    "\n",
    "history=model.fit(train,\n",
    "                  validation_data=eval,\n",
    "                  epochs=50,\n",
    "                  shuffle=True,\n",
    "                  verbose=1,\n",
    "                  callbacks=[earlystopping])"
   ]
  },
  {
   "cell_type": "code",
   "execution_count": 36,
   "metadata": {},
   "outputs": [],
   "source": [
    "model_file=\"VGG16(50ep).h5\"\n",
    "keras.models.save_model(model,model_file)"
   ]
  },
  {
   "cell_type": "code",
   "execution_count": 37,
   "metadata": {},
   "outputs": [
    {
     "data": {
      "image/png": "[encoded data removed]",
      "text/plain": [
       "<Figure size 432x288 with 1 Axes>"
      ]
     },
     "metadata": {
      "needs_background": "light"
     },
     "output_type": "display_data"
    }
   ],
   "source": [
    "plt.subplot(211)\n",
    "plt.title('Loss(50 Ep)')\n",
    "plt.plot(history.history['loss'], label='train')\n",
    "plt.plot(history.history['val_loss'], label='test')\n",
    "plt.legend()\n",
    "plt.savefig('Loss(50 Ep).png')\n",
    "plt.show()"
   ]
  },
  {
   "cell_type": "code",
   "execution_count": 38,
   "metadata": {},
   "outputs": [
    {
     "data": {
      "image/png": "[encoded data removed]",
      "text/plain": [
       "<Figure size 432x288 with 1 Axes>"
      ]
     },
     "metadata": {
      "needs_background": "light"
     },
     "output_type": "display_data"
    }
   ],
   "source": [
    "plt.subplot(212)\n",
    "plt.title('Accuracy(50 Ep)')\n",
    "plt.plot(history.history['accuracy'], label='train')\n",
    "plt.plot(history.history['val_accuracy'], label='test')\n",
    "plt.savefig('Accuracy(50 Ep).png')\n",
    "plt.show()"
   ]
  },
  {
   "cell_type": "code",
   "execution_count": 39,
   "metadata": {},
   "outputs": [
    {
     "name": "stdout",
     "output_type": "stream",
     "text": [
      "19:39:53.937273\n"
     ]
    }
   ],
   "source": [
    "print(datetime.datetime.now().time())"
   ]
  },
  {
   "cell_type": "markdown",
   "metadata": {},
   "source": [
    "###### #convert the model \n",
    "# converter=tf.lite.TFLiteConverter.from_saved_model('D:\\jupyternotebooks\\prototype 1')\n",
    "# tflite_model = converter.convert()"
   ]
  },
  {
   "cell_type": "code",
   "execution_count": null,
   "metadata": {},
   "outputs": [],
   "source": [
    "# # Save the model.\n",
    "# with open('model.tflite', 'wb') as f:\n",
    "#   f.write(tflite_model)"
   ]
  },
  {
   "cell_type": "code",
   "execution_count": null,
   "metadata": {},
   "outputs": [],
   "source": [
    "earlystopping=callbacks.EarlyStopping(monitor=\"val_loss\",\n",
    "                                      mode='min',\n",
    "                                      patience=5,\n",
    "                                      restore_best_weights=True)\n",
    "\n",
    "history=model.fit(train,\n",
    "                  validation_data=eval,\n",
    "                  epochs=2,\n",
    "                  shuffle=True,\n",
    "                  verbose=1,\n",
    "                  callbacks=[earlystopping])"
   ]
  },
  {
   "cell_type": "code",
   "execution_count": null,
   "metadata": {},
   "outputs": [],
   "source": [
    "plt.subplot(211)\n",
    "plt.title('Loss')\n",
    "plt.plot(history.history['loss'], label='train')\n",
    "plt.plot(history.history['val_loss'], label='test')\n",
    "plt.legend()"
   ]
  },
  {
   "cell_type": "code",
   "execution_count": null,
   "metadata": {},
   "outputs": [],
   "source": [
    "plt.subplot(212)\n",
    "plt.title('Accuracy')\n",
    "plt.plot(history.history['accuracy'], label='train')\n",
    "plt.plot(history.history['val_accuracy'], label='test')\n",
    "plt.legend()\n",
    "plt.show()"
   ]
  },
  {
   "cell_type": "code",
   "execution_count": null,
   "metadata": {},
   "outputs": [],
   "source": []
  }
 ],
 "metadata": {
  "kernelspec": {
   "display_name": "Python 3",
   "language": "python",
   "name": "python3"
  },
  "language_info": {
   "codemirror_mode": {
    "name": "ipython",
    "version": 3
   },
   "file_extension": ".py",
   "mimetype": "text/x-python",
   "name": "python",
   "nbconvert_exporter": "python",
   "pygments_lexer": "ipython3",
   "version": "3.7.9"
  }
 },
 "nbformat": 4,
 "nbformat_minor": 4
}
