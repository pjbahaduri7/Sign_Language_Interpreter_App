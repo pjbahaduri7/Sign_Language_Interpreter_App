{
 "cells": [
  {
   "cell_type": "code",
   "execution_count": 1,
   "metadata": {},
   "outputs": [],
   "source": [
    "import dill \n",
    "dill.load_session('notebook_env.db')"
   ]
  },
  {
   "cell_type": "code",
   "execution_count": 34,
   "metadata": {},
   "outputs": [],
   "source": [
    "import numpy as np\n",
    "np.random.seed(5)\n",
    "import tensorflow as tf\n",
    "tf.random.set_seed(2)\n",
    "import matplotlib.pyplot as plt \n",
    "%matplotlib inline\n",
    "import os \n",
    "import shutil\n",
    "import cv2\n",
    "import keras\n",
    "from sklearn.model_selection import train_test_split"
   ]
  },
  {
   "cell_type": "code",
   "execution_count": 24,
   "metadata": {},
   "outputs": [],
   "source": [
    "train_dir=r\"D:\\jupyternotebooks\\prototype 1\\asl_alphabet_train\\asl_alphabet_train\"\n",
    "test_dir=r\"D:\\jupyternotebooks\\prototype 1\\asl_alphabet_test\\asl_alphabet_test\""
   ]
  },
  {
   "cell_type": "code",
   "execution_count": 54,
   "metadata": {},
   "outputs": [],
   "source": [
    "# function to delete unwanted directory from our datasets \n",
    "def delete_unwanted_directory(directory):\n",
    "    flag=0\n",
    "    for file in enumerate(os.listdir(directory)):\n",
    "#       We are deleting del folder because its not useful for us for this particular model\n",
    "        if file[1] == 'del':\n",
    "            path=os.path.join(directory,file[1])\n",
    "            shutil.rmtree(path)\n",
    "            flag=1\n",
    "    if (flag == 1):\n",
    "        print(\"Directory is deleted\")\n",
    "    else:\n",
    "        print(\"Directory not found!\")"
   ]
  },
  {
   "cell_type": "code",
   "execution_count": 55,
   "metadata": {},
   "outputs": [
    {
     "name": "stdout",
     "output_type": "stream",
     "text": [
      "Directory is deleted\n"
     ]
    }
   ],
   "source": [
    "delete_unwanted_directory(train_dir)"
   ]
  },
  {
   "cell_type": "code",
   "execution_count": 81,
   "metadata": {},
   "outputs": [],
   "source": [
    "def rename_test_directory(directory):\n",
    "        for file in enumerate(os.listdir(directory)):\n",
    "            if (file[1] in ['nothing_test.jpg','space_test.jpg']) :\n",
    "                os.rename(\n",
    "                        os.path.join(directory,file[1]),\n",
    "                        os.path.join(directory,\"{}.jpg\".format(str(file[1])[:-9])))\n",
    "            else:    \n",
    "                os.rename(\n",
    "                os.path.join(directory,file[1]),\n",
    "                os.path.join(directory,\"{}.jpg\".format(str(file[1])[0])))\n",
    "        print(\"Files renamed!\")"
   ]
  },
  {
   "cell_type": "code",
   "execution_count": 82,
   "metadata": {},
   "outputs": [
    {
     "name": "stdout",
     "output_type": "stream",
     "text": [
      "Files renamed!\n"
     ]
    }
   ],
   "source": [
    "rename_test_directory(directory=test_dir)"
   ]
  },
  {
   "cell_type": "code",
   "execution_count": 86,
   "metadata": {},
   "outputs": [],
   "source": [
    "# function to load the images from the directory \n",
    "def load_images(directory,uniq_labels):\n",
    "    images=[]\n",
    "    labels=[]\n",
    "    for idx,label in enumerate(uniq_labels):\n",
    "        for file in os.listdir(directory+\"/\"+label):\n",
    "            filepath=directory+\"/\"+label+\"/\"+file\n",
    "            image = cv2.resize(cv2.imread(filepath), (64, 64))\n",
    "            images.append(image)\n",
    "            labels.append(idx)\n",
    "    images = np.array(images)\n",
    "    labels = np.array(labels)\n",
    "    return(images, labels)"
   ]
  },
  {
   "cell_type": "code",
   "execution_count": null,
   "metadata": {},
   "outputs": [
    {
     "name": "stdout",
     "output_type": "stream",
     "text": [
      "['A', 'B', 'C', 'D', 'E', 'F', 'G', 'H', 'I', 'J', 'K', 'L', 'M', 'N', 'O', 'P', 'Q', 'R', 'S', 'T', 'U', 'V', 'W', 'X', 'Y', 'Z', 'nothing', 'space']\n",
      "['A.jpg', 'B.jpg', 'C.jpg', 'D.jpg', 'E.jpg', 'F.jpg', 'G.jpg', 'H.jpg', 'I.jpg', 'J.jpg', 'K.jpg', 'L.jpg', 'M.jpg', 'N.jpg', 'O.jpg', 'P.jpg', 'Q.jpg', 'R.jpg', 'S.jpg', 'T.jpg', 'U.jpg', 'V.jpg', 'W.jpg', 'X.jpg', 'Y.jpg', 'Z.jpg', 'nothing.jpg', 'space.jpg']\n"
     ]
    }
   ],
   "source": [
    "uniq_labels = sorted(os.listdir(train_dir))\n",
    "print(uniq_labels)\n",
    "print(sorted(os.listdir(test_dir)))\n",
    "images, labels = load_images(directory = train_dir,uniq_labels=uniq_labels)\n",
    "\n",
    "test_uniq_labels = sorted(os.listdir(train_dir))\n",
    "# x_eval, y_eval = load_images(directory = test_dir,uniq_labels=test_uniq_labels)"
   ]
  },
  {
   "cell_type": "code",
   "execution_count": 27,
   "metadata": {},
   "outputs": [],
   "source": [
    "x_train,x_test,y_train,y_test=train_test_split(images,labels,test_size=0.1,stratify=labels)"
   ]
  },
  {
   "cell_type": "code",
   "execution_count": 31,
   "metadata": {},
   "outputs": [
    {
     "name": "stdout",
     "output_type": "stream",
     "text": [
      "The total number of signs in our dataset 29\n",
      "The total training images is 78300\n",
      "The total testing images is 8700\n"
     ]
    }
   ],
   "source": [
    "print(\"The total number of signs in our dataset {}\".format(len(uniq_labels)))\n",
    "print(\"The total training images is {}\".format(len(x_train)))\n",
    "print(\"The total testing images is {}\".format(len(x_test)))\n",
    "# print(\"The total evalution images is {}\".format(len(x_eval)))"
   ]
  },
  {
   "cell_type": "code",
   "execution_count": 29,
   "metadata": {},
   "outputs": [],
   "source": [
    "# function to print images using matplotlib\n",
    "def print_images(images_list):\n",
    "    pass"
   ]
  },
  {
   "cell_type": "code",
   "execution_count": 30,
   "metadata": {},
   "outputs": [],
   "source": [
    "dill.dump_session('notebook_env.db')"
   ]
  }
 ],
 "metadata": {
  "kernelspec": {
   "display_name": "Python 3",
   "language": "python",
   "name": "python3"
  },
  "language_info": {
   "codemirror_mode": {
    "name": "ipython",
    "version": 3
   },
   "file_extension": ".py",
   "mimetype": "text/x-python",
   "name": "python",
   "nbconvert_exporter": "python",
   "pygments_lexer": "ipython3",
   "version": "3.7.9"
  }
 },
 "nbformat": 4,
 "nbformat_minor": 4
}
