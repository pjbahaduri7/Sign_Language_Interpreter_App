{
 "cells": [
  {
   "cell_type": "code",
   "execution_count": null,
   "id": "d1286cdd",
   "metadata": {},
   "outputs": [],
   "source": [
    "import numpy as np \n",
    "import tensorflow as tf\n",
    "import keras\n",
    "from keras import utils,callbacks\n",
    "from keras.models import Sequential,Model\n",
    "from keras.applications.vgg16 import VGG16\n",
    "from keras.layers.core import Dropout,Flatten,Dense\n",
    "from keras.layers.convolutional import Convolution2D,MaxPooling2D,ZeroPadding2D\n",
    "from keras.optimizers import Adam\n",
    "from tensorflow.keras.preprocessing.image import ImageDataGenerator\n",
    "from tensorflow.keras.applications.vgg16 import preprocess_input,decode_predictions\n",
    "import PIL.Image\n",
    "from tensorflow import lite \n",
    "import matplotlib.pyplot as plt \n",
    "import datetime"
   ]
  },
  {
   "cell_type": "code",
   "execution_count": 2,
   "id": "411a1979",
   "metadata": {},
   "outputs": [],
   "source": [
    "train_dir=r\"D:\\jupyternotebooks\\vgg16\\signtrain\"\n",
    "test_dir=r\"D:\\jupyternotebooks\\vgg16\\signtest\""
   ]
  },
  {
   "cell_type": "code",
   "execution_count": 3,
   "id": "057d2d65",
   "metadata": {},
   "outputs": [],
   "source": [
    "classes=40\n",
    "batch=512\n",
    "epochs=10\n",
    "lnr=0.0001"
   ]
  },
  {
   "cell_type": "code",
   "execution_count": 4,
   "id": "d3f116ab",
   "metadata": {},
   "outputs": [
    {
     "name": "stdout",
     "output_type": "stream",
     "text": [
      "Found 31190 images belonging to 40 classes.\n",
      "Found 7789 images belonging to 40 classes.\n"
     ]
    }
   ],
   "source": [
    "img_gen=ImageDataGenerator(rotation_range=20,zoom_range=0.1,\n",
    "                            width_shift_range=0.1,height_shift_range=0.1,\n",
    "                            shear_range=0.1,horizontal_flip=True,\n",
    "                            rescale=1/255.0,validation_split=0.2)\n",
    "\n",
    "train=img_gen.flow_from_directory(train_dir,target_size=(64,64),subset=\"training\")\n",
    "eval=img_gen.flow_from_directory(train_dir,target_size=(64,64),subset=\"validation\")"
   ]
  },
  {
   "cell_type": "code",
   "execution_count": 6,
   "id": "f07f6a9d",
   "metadata": {},
   "outputs": [],
   "source": [
    "adam=Adam(learning_rate=lnr)\n",
    "model=Sequential()\n",
    "model.add(VGG16(weights='imagenet',include_top=False,input_shape=(64,64,3)))\n",
    "model.add(Flatten())\n",
    "model.add(Dense(256,activation='relu'))\n",
    "model.add(Dense(40,activation='softmax'))\n",
    "model.compile(optimizer=adam,loss='categorical_crossentropy',metrics=['accuracy'])"
   ]
  },
  {
   "cell_type": "code",
   "execution_count": 7,
   "id": "d456621f",
   "metadata": {},
   "outputs": [
    {
     "name": "stdout",
     "output_type": "stream",
     "text": [
      "Model: \"sequential\"\n",
      "_________________________________________________________________\n",
      "Layer (type)                 Output Shape              Param #   \n",
      "=================================================================\n",
      "vgg16 (Functional)           (None, 2, 2, 512)         14714688  \n",
      "_________________________________________________________________\n",
      "flatten (Flatten)            (None, 2048)              0         \n",
      "_________________________________________________________________\n",
      "dense (Dense)                (None, 256)               524544    \n",
      "_________________________________________________________________\n",
      "dense_1 (Dense)              (None, 40)                10280     \n",
      "=================================================================\n",
      "Total params: 15,249,512\n",
      "Trainable params: 15,249,512\n",
      "Non-trainable params: 0\n",
      "_________________________________________________________________\n"
     ]
    }
   ],
   "source": [
    "model.summary()"
   ]
  },
  {
   "cell_type": "code",
   "execution_count": 8,
   "id": "3fbb4f59",
   "metadata": {},
   "outputs": [],
   "source": [
    "earlystopping=callbacks.EarlyStopping(monitor=\"val_loss\",\n",
    "                                      mode='min',\n",
    "                                      patience=5,\n",
    "                                      restore_best_weights=True)\n",
    "\n",
    "checkpoint_file_path=r\"D:\\jupyternotebooks\\vgg16\\modelcheckpint\"\n",
    "modelcheckpoint= tf.keras.callbacks.ModelCheckpoint(filepath=checkpoint_file_path, \n",
    "                             monitor=\"val_loss\",\n",
    "                             verbose=1, \n",
    "                             save_best_only=True,\n",
    "                             mode='min'         )"
   ]
  },
  {
   "cell_type": "code",
   "execution_count": 9,
   "id": "bdc0139d",
   "metadata": {},
   "outputs": [
    {
     "name": "stdout",
     "output_type": "stream",
     "text": [
      "Epoch 1/10\n",
      "975/975 [==============================] - 1118s 1s/step - loss: 1.2061 - accuracy: 0.6659 - val_loss: 0.1831 - val_accuracy: 0.9579\n",
      "\n",
      "Epoch 00001: val_loss improved from inf to 0.18311, saving model to D:\\jupyternotebooks\\vgg16\\modelcheckpint\n",
      "INFO:tensorflow:Assets written to: D:\\jupyternotebooks\\vgg16\\modelcheckpint\\assets\n",
      "Epoch 2/10\n",
      "975/975 [==============================] - 659s 676ms/step - loss: 0.0572 - accuracy: 0.9838 - val_loss: 0.0289 - val_accuracy: 0.9926\n",
      "\n",
      "Epoch 00002: val_loss improved from 0.18311 to 0.02889, saving model to D:\\jupyternotebooks\\vgg16\\modelcheckpint\n",
      "INFO:tensorflow:Assets written to: D:\\jupyternotebooks\\vgg16\\modelcheckpint\\assets\n",
      "Epoch 3/10\n",
      "975/975 [==============================] - 580s 593ms/step - loss: 0.0481 - accuracy: 0.9862 - val_loss: 0.1140 - val_accuracy: 0.9724\n",
      "\n",
      "Epoch 00003: val_loss did not improve from 0.02889\n",
      "Epoch 4/10\n",
      "975/975 [==============================] - 143s 147ms/step - loss: 0.0483 - accuracy: 0.9862 - val_loss: 0.1075 - val_accuracy: 0.9691\n",
      "\n",
      "Epoch 00004: val_loss did not improve from 0.02889\n",
      "Epoch 5/10\n",
      "975/975 [==============================] - 145s 149ms/step - loss: 0.0311 - accuracy: 0.9920 - val_loss: 0.0447 - val_accuracy: 0.9891\n",
      "\n",
      "Epoch 00005: val_loss did not improve from 0.02889\n",
      "Epoch 6/10\n",
      "975/975 [==============================] - 147s 151ms/step - loss: 0.0444 - accuracy: 0.9877 - val_loss: 0.0385 - val_accuracy: 0.9901\n",
      "\n",
      "Epoch 00006: val_loss did not improve from 0.02889\n",
      "Epoch 7/10\n",
      "975/975 [==============================] - 148s 151ms/step - loss: 0.0603 - accuracy: 0.9851 - val_loss: 0.0259 - val_accuracy: 0.9931\n",
      "\n",
      "Epoch 00007: val_loss improved from 0.02889 to 0.02591, saving model to D:\\jupyternotebooks\\vgg16\\modelcheckpint\n",
      "INFO:tensorflow:Assets written to: D:\\jupyternotebooks\\vgg16\\modelcheckpint\\assets\n",
      "Epoch 8/10\n",
      "975/975 [==============================] - 247s 253ms/step - loss: 0.0166 - accuracy: 0.9954 - val_loss: 0.0289 - val_accuracy: 0.9915\n",
      "\n",
      "Epoch 00008: val_loss did not improve from 0.02591\n",
      "Epoch 9/10\n",
      "975/975 [==============================] - 428s 439ms/step - loss: 0.0281 - accuracy: 0.9926 - val_loss: 0.0623 - val_accuracy: 0.9824\n",
      "\n",
      "Epoch 00009: val_loss did not improve from 0.02591\n",
      "Epoch 10/10\n",
      "975/975 [==============================] - 161s 165ms/step - loss: 0.0256 - accuracy: 0.9936 - val_loss: 0.0867 - val_accuracy: 0.9759\n",
      "\n",
      "Epoch 00010: val_loss did not improve from 0.02591\n"
     ]
    }
   ],
   "source": [
    "history=model.fit(train,\n",
    "                  validation_data=eval,\n",
    "                  epochs=epochs,\n",
    "                  shuffle=True,\n",
    "                  verbose=1,\n",
    "                  callbacks=[earlystopping,modelcheckpoint])"
   ]
  },
  {
   "cell_type": "code",
   "execution_count": 11,
   "id": "9778cd08",
   "metadata": {},
   "outputs": [
    {
     "name": "stdout",
     "output_type": "stream",
     "text": [
      "INFO:tensorflow:Assets written to: D:\\jupyternotebooks\\vgg16\\modelweights\\assets\n"
     ]
    }
   ],
   "source": [
    "model.save(r\"D:\\jupyternotebooks\\vgg16\\modelweights\")"
   ]
  },
  {
   "cell_type": "code",
   "execution_count": 16,
   "id": "67e29486",
   "metadata": {},
   "outputs": [],
   "source": [
    "model_file=\"VGG16(10ep).h5\"\n",
    "keras.models.save_model(model,model_file)"
   ]
  },
  {
   "cell_type": "code",
   "execution_count": 14,
   "id": "b634871f",
   "metadata": {},
   "outputs": [
    {
     "data": {
      "image/png": "[encoded data removed]",
      "text/plain": [
       "<Figure size 432x288 with 1 Axes>"
      ]
     },
     "metadata": {
      "needs_background": "light"
     },
     "output_type": "display_data"
    }
   ],
   "source": [
    "plt.subplot(211)\n",
    "plt.title('Loss(10 Ep)')\n",
    "plt.plot(history.history['loss'], label='train')\n",
    "plt.plot(history.history['val_loss'], label='test')\n",
    "plt.legend()\n",
    "plt.savefig('Loss(10 Ep).png')\n",
    "plt.show()"
   ]
  },
  {
   "cell_type": "code",
   "execution_count": 15,
   "id": "d72f4360",
   "metadata": {},
   "outputs": [
    {
     "data": {
      "image/png": "[encoded data removed]",
      "text/plain": [
       "<Figure size 432x288 with 1 Axes>"
      ]
     },
     "metadata": {
      "needs_background": "light"
     },
     "output_type": "display_data"
    }
   ],
   "source": [
    "plt.subplot(212)\n",
    "plt.title('Accuracy(10 Ep)')\n",
    "plt.plot(history.history['accuracy'], label='train')\n",
    "plt.plot(history.history['val_accuracy'], label='test')\n",
    "plt.savefig('Accuracy(10 Ep).png')\n",
    "plt.show()"
   ]
  },
  {
   "cell_type": "code",
   "execution_count": 33,
   "id": "71a1f99f",
   "metadata": {},
   "outputs": [
    {
     "name": "stdout",
     "output_type": "stream",
     "text": [
      "Found 1 images belonging to 1 classes.\n"
     ]
    },
    {
     "data": {
      "text/plain": [
       "array([12], dtype=int64)"
      ]
     },
     "execution_count": 33,
     "metadata": {},
     "output_type": "execute_result"
    }
   ],
   "source": [
    "# import cv2\n",
    "# img=cv2.imread(r\"D:\\jupyternotebooks\\vgg16\\A.00c43d5e-ae2f-11eb-998f-00f48dddcbd4.jpg\")\n",
    "# resize_img=cv2.resize(img,(64,64))\n",
    "test=ImageDataGenerator(rescale=1./255).flow_from_directory(test_dir,target_size=(64,64),class_mode=None)\n",
    "pred=model.predict(test)\n",
    "pred = np.argmax(pred, axis=1)\n",
    "pred"
   ]
  },
  {
   "cell_type": "code",
   "execution_count": 22,
   "id": "e8b83891",
   "metadata": {},
   "outputs": [],
   "source": [
    "adam=Adam(learning_rate=lnr)\n",
    "model25=Sequential()\n",
    "model25.add(VGG16(weights='imagenet',include_top=False,input_shape=(64,64,3)))\n",
    "model25.add(Flatten())\n",
    "model25.add(Dense(256,activation='relu'))\n",
    "model25.add(Dense(40,activation='softmax'))\n",
    "model25.compile(optimizer=adam,loss='categorical_crossentropy',metrics=['accuracy'])"
   ]
  },
  {
   "cell_type": "code",
   "execution_count": 23,
   "id": "bf3f03bb",
   "metadata": {},
   "outputs": [],
   "source": [
    "earlystopping=callbacks.EarlyStopping(monitor=\"val_loss\",\n",
    "                                      mode='min',\n",
    "                                      patience=5,\n",
    "                                      restore_best_weights=True)\n",
    "\n",
    "checkpoint_file_path=r\"D:\\jupyternotebooks\\vgg16\\model50checkpint\"\n",
    "modelcheckpoint= tf.keras.callbacks.ModelCheckpoint(filepath=checkpoint_file_path, \n",
    "                             monitor=\"val_loss\",\n",
    "                             verbose=1, \n",
    "                             save_best_only=True,\n",
    "                             mode='min'         )"
   ]
  },
  {
   "cell_type": "code",
   "execution_count": 24,
   "id": "0a643408",
   "metadata": {},
   "outputs": [
    {
     "name": "stdout",
     "output_type": "stream",
     "text": [
      "Epoch 1/25\n",
      "975/975 [==============================] - 1043s 1s/step - loss: 1.3675 - accuracy: 0.6250 - val_loss: 0.0849 - val_accuracy: 0.9737\n",
      "\n",
      "Epoch 00001: val_loss improved from inf to 0.08486, saving model to D:\\jupyternotebooks\\vgg16\\model50checkpint\n",
      "INFO:tensorflow:Assets written to: D:\\jupyternotebooks\\vgg16\\model50checkpint\\assets\n",
      "Epoch 2/25\n",
      "975/975 [==============================] - 188s 193ms/step - loss: 0.0700 - accuracy: 0.9793 - val_loss: 0.0228 - val_accuracy: 0.9936\n",
      "\n",
      "Epoch 00002: val_loss improved from 0.08486 to 0.02279, saving model to D:\\jupyternotebooks\\vgg16\\model50checkpint\n",
      "INFO:tensorflow:Assets written to: D:\\jupyternotebooks\\vgg16\\model50checkpint\\assets\n",
      "Epoch 3/25\n",
      "975/975 [==============================] - 151s 155ms/step - loss: 0.0373 - accuracy: 0.9892 - val_loss: 0.0657 - val_accuracy: 0.9831\n",
      "\n",
      "Epoch 00003: val_loss did not improve from 0.02279\n",
      "Epoch 4/25\n",
      "975/975 [==============================] - 154s 158ms/step - loss: 0.0401 - accuracy: 0.9878 - val_loss: 0.0536 - val_accuracy: 0.9874\n",
      "\n",
      "Epoch 00004: val_loss did not improve from 0.02279\n",
      "Epoch 5/25\n",
      "975/975 [==============================] - 157s 161ms/step - loss: 0.0329 - accuracy: 0.9920 - val_loss: 0.0390 - val_accuracy: 0.9895\n",
      "\n",
      "Epoch 00005: val_loss did not improve from 0.02279\n",
      "Epoch 6/25\n",
      "975/975 [==============================] - 159s 163ms/step - loss: 0.0290 - accuracy: 0.9923 - val_loss: 0.0293 - val_accuracy: 0.9905\n",
      "\n",
      "Epoch 00006: val_loss did not improve from 0.02279\n",
      "Epoch 7/25\n",
      "975/975 [==============================] - 161s 165ms/step - loss: 0.0324 - accuracy: 0.9913 - val_loss: 0.0208 - val_accuracy: 0.9946\n",
      "\n",
      "Epoch 00007: val_loss improved from 0.02279 to 0.02081, saving model to D:\\jupyternotebooks\\vgg16\\model50checkpint\n",
      "INFO:tensorflow:Assets written to: D:\\jupyternotebooks\\vgg16\\model50checkpint\\assets\n",
      "Epoch 8/25\n",
      "975/975 [==============================] - 159s 163ms/step - loss: 0.0186 - accuracy: 0.9953 - val_loss: 0.0759 - val_accuracy: 0.9792\n",
      "\n",
      "Epoch 00008: val_loss did not improve from 0.02081\n",
      "Epoch 9/25\n",
      "975/975 [==============================] - 158s 162ms/step - loss: 0.0226 - accuracy: 0.9944 - val_loss: 0.0289 - val_accuracy: 0.9935\n",
      "\n",
      "Epoch 00009: val_loss did not improve from 0.02081\n",
      "Epoch 10/25\n",
      "975/975 [==============================] - 159s 163ms/step - loss: 0.0178 - accuracy: 0.9956 - val_loss: 0.0169 - val_accuracy: 0.9951\n",
      "\n",
      "Epoch 00010: val_loss improved from 0.02081 to 0.01693, saving model to D:\\jupyternotebooks\\vgg16\\model50checkpint\n",
      "INFO:tensorflow:Assets written to: D:\\jupyternotebooks\\vgg16\\model50checkpint\\assets\n",
      "Epoch 11/25\n",
      "975/975 [==============================] - 160s 164ms/step - loss: 0.0164 - accuracy: 0.9957 - val_loss: 0.0217 - val_accuracy: 0.9946\n",
      "\n",
      "Epoch 00011: val_loss did not improve from 0.01693\n",
      "Epoch 12/25\n",
      "975/975 [==============================] - 159s 163ms/step - loss: 0.0156 - accuracy: 0.9963 - val_loss: 0.0171 - val_accuracy: 0.9963\n",
      "\n",
      "Epoch 00012: val_loss did not improve from 0.01693\n",
      "Epoch 13/25\n",
      "975/975 [==============================] - 160s 164ms/step - loss: 0.0146 - accuracy: 0.9962 - val_loss: 0.0229 - val_accuracy: 0.9950\n",
      "\n",
      "Epoch 00013: val_loss did not improve from 0.01693\n",
      "Epoch 14/25\n",
      "975/975 [==============================] - 160s 164ms/step - loss: 0.0140 - accuracy: 0.9967 - val_loss: 0.1996 - val_accuracy: 0.9698\n",
      "\n",
      "Epoch 00014: val_loss did not improve from 0.01693\n",
      "Epoch 15/25\n",
      "975/975 [==============================] - 159s 164ms/step - loss: 0.0327 - accuracy: 0.9941 - val_loss: 0.0380 - val_accuracy: 0.9911\n",
      "\n",
      "Epoch 00015: val_loss did not improve from 0.01693\n"
     ]
    }
   ],
   "source": [
    "history25=model25.fit(train,\n",
    "                  validation_data=eval,\n",
    "                  epochs=25,\n",
    "                  shuffle=True,\n",
    "                  verbose=1,\n",
    "                  callbacks=[earlystopping,modelcheckpoint])"
   ]
  },
  {
   "cell_type": "code",
   "execution_count": 26,
   "id": "70920fee",
   "metadata": {},
   "outputs": [
    {
     "name": "stdout",
     "output_type": "stream",
     "text": [
      "INFO:tensorflow:Assets written to: D:\\jupyternotebooks\\vgg16\\model25weights\\assets\n"
     ]
    }
   ],
   "source": [
    "model25.save(r\"D:\\jupyternotebooks\\vgg16\\model25weights\")"
   ]
  },
  {
   "cell_type": "code",
   "execution_count": 28,
   "id": "f1bfa445",
   "metadata": {},
   "outputs": [],
   "source": [
    "model_file=\"VGG16(25ep).h5\"\n",
    "keras.models.save_model(model25,model_file)"
   ]
  },
  {
   "cell_type": "code",
   "execution_count": 29,
   "id": "15870f0e",
   "metadata": {},
   "outputs": [
    {
     "data": {
      "image/png": "[encoded data removed]",
      "text/plain": [
       "<Figure size 432x288 with 1 Axes>"
      ]
     },
     "metadata": {
      "needs_background": "light"
     },
     "output_type": "display_data"
    }
   ],
   "source": [
    "plt.subplot(211)\n",
    "plt.title('Loss(25 Ep)')\n",
    "plt.plot(history25.history['loss'], label='train')\n",
    "plt.plot(history25.history['val_loss'], label='test')\n",
    "plt.legend()\n",
    "plt.savefig('Loss(25 Ep).png')\n",
    "plt.show()"
   ]
  },
  {
   "cell_type": "code",
   "execution_count": 30,
   "id": "0bda838a",
   "metadata": {},
   "outputs": [
    {
     "data": {
      "image/png": "[encoded data removed]",
      "text/plain": [
       "<Figure size 432x288 with 1 Axes>"
      ]
     },
     "metadata": {
      "needs_background": "light"
     },
     "output_type": "display_data"
    }
   ],
   "source": [
    "plt.subplot(212)\n",
    "plt.title('Accuracy(25 Ep)')\n",
    "plt.plot(history25.history['accuracy'], label='train')\n",
    "plt.plot(history25.history['val_accuracy'], label='test')\n",
    "plt.savefig('Accuracy(25 Ep).png')\n",
    "plt.show()"
   ]
  },
  {
   "cell_type": "code",
   "execution_count": 3,
   "id": "824dd26b",
   "metadata": {},
   "outputs": [
    {
     "name": "stdout",
     "output_type": "stream",
     "text": [
      "Found 1 images belonging to 1 classes.\n"
     ]
    },
    {
     "data": {
      "text/plain": [
       "array([3], dtype=int64)"
      ]
     },
     "execution_count": 3,
     "metadata": {},
     "output_type": "execute_result"
    }
   ],
   "source": [
    "model25 = keras.models.load_model(r'D:\\jupyternotebooks\\vgg16\\model25weights')\n",
    "test=ImageDataGenerator(rotation_range=20,zoom_range=0.1,\n",
    "                            width_shift_range=0.1,height_shift_range=0.1,\n",
    "                            shear_range=0.1,horizontal_flip=True,\n",
    "                            rescale=1/255.0).flow_from_directory(test_dir,target_size=(64,64),class_mode=None)\n",
    "pred=model25.predict(test)\n",
    "pred = np.argmax(pred, axis=1)\n",
    "pred"
   ]
  },
  {
   "cell_type": "code",
   "execution_count": 3,
   "id": "b2858bfe",
   "metadata": {},
   "outputs": [],
   "source": [
    "converter = tf.lite.TFLiteConverter.from_saved_model(r'D:\\jupyternotebooks\\vgg16\\model25weights')\n",
    "tflite_model = converter.convert()\n",
    "\n",
    "with open('model.tflite', 'wb') as f:\n",
    "  f.write(tflite_model)"
   ]
  },
  {
   "cell_type": "code",
   "execution_count": 1,
   "id": "6ffbaa43",
   "metadata": {},
   "outputs": [
    {
     "ename": "NameError",
     "evalue": "name 'tf' is not defined",
     "output_type": "error",
     "traceback": [
      "\u001b[1;31m---------------------------------------------------------------------------\u001b[0m",
      "\u001b[1;31mNameError\u001b[0m                                 Traceback (most recent call last)",
      "\u001b[1;32m<ipython-input-1-7fb454504420>\u001b[0m in \u001b[0;36m<module>\u001b[1;34m\u001b[0m\n\u001b[1;32m----> 1\u001b[1;33m \u001b[0mconverter\u001b[0m \u001b[1;33m=\u001b[0m \u001b[0mtf\u001b[0m\u001b[1;33m.\u001b[0m\u001b[0mlite\u001b[0m\u001b[1;33m.\u001b[0m\u001b[0mTFLiteConverter\u001b[0m\u001b[1;33m.\u001b[0m\u001b[0mfrom_saved_model\u001b[0m\u001b[1;33m(\u001b[0m\u001b[1;34mr'D:\\jupyternotebooks\\vgg16\\model25weights'\u001b[0m\u001b[1;33m)\u001b[0m\u001b[1;33m\u001b[0m\u001b[1;33m\u001b[0m\u001b[0m\n\u001b[0m\u001b[0;32m      2\u001b[0m \u001b[0mconverter\u001b[0m\u001b[1;33m.\u001b[0m\u001b[0moptimizations\u001b[0m \u001b[1;33m=\u001b[0m \u001b[1;33m[\u001b[0m\u001b[0mtf\u001b[0m\u001b[1;33m.\u001b[0m\u001b[0mlite\u001b[0m\u001b[1;33m.\u001b[0m\u001b[0mOptimize\u001b[0m\u001b[1;33m.\u001b[0m\u001b[0mDEFAULT\u001b[0m\u001b[1;33m]\u001b[0m\u001b[1;33m\u001b[0m\u001b[1;33m\u001b[0m\u001b[0m\n\u001b[0;32m      3\u001b[0m \u001b[0mconverter\u001b[0m\u001b[1;33m.\u001b[0m\u001b[0mrepresentative_dataset\u001b[0m \u001b[1;33m=\u001b[0m \u001b[0mrepresentative_dataset\u001b[0m\u001b[1;33m\u001b[0m\u001b[1;33m\u001b[0m\u001b[0m\n\u001b[0;32m      4\u001b[0m \u001b[0mtflite_model\u001b[0m \u001b[1;33m=\u001b[0m \u001b[0mconverter\u001b[0m\u001b[1;33m.\u001b[0m\u001b[0mconvert\u001b[0m\u001b[1;33m(\u001b[0m\u001b[1;33m)\u001b[0m\u001b[1;33m\u001b[0m\u001b[1;33m\u001b[0m\u001b[0m\n\u001b[0;32m      5\u001b[0m \u001b[1;33m\u001b[0m\u001b[0m\n",
      "\u001b[1;31mNameError\u001b[0m: name 'tf' is not defined"
     ]
    }
   ],
   "source": [
    "converter = tf.lite.TFLiteConverter.from_saved_model(r'D:\\jupyternotebooks\\vgg16\\model25weights')\n",
    "converter.optimizations = [tf.lite.Optimize.DEFAULT]\n",
    "converter.representative_dataset = representative_dataset\n",
    "tflite_model = converter.convert()\n",
    "\n",
    "with open('model_quant.tflite', 'wb') as f:\n",
    "  f.write(tflite_model)"
   ]
  },
  {
   "cell_type": "code",
   "execution_count": null,
   "id": "74f20cb4",
   "metadata": {},
   "outputs": [],
   "source": []
  }
 ],
 "metadata": {
  "kernelspec": {
   "display_name": "tfsetupenv",
   "language": "python",
   "name": "tfsetupenv"
  },
  "language_info": {
   "codemirror_mode": {
    "name": "ipython",
    "version": 3
   },
   "file_extension": ".py",
   "mimetype": "text/x-python",
   "name": "python",
   "nbconvert_exporter": "python",
   "pygments_lexer": "ipython3",
   "version": "3.7.9"
  }
 },
 "nbformat": 4,
 "nbformat_minor": 5
}
